{
  "cells": [
    {
      "cell_type": "markdown",
      "id": "d6154094",
      "metadata": {},
      "source": [
        "# Metadata Filtering in Vector Search: Milvus Demo\n",
        "#\n",
        "This notebook demonstrates metadata filtering with Milvus, following the\n",
        "\"Metadata Filtering in Vector Search: A Comprehensive Guide for Engineering Leaders\".\n",
        "We use our standard synthetic product dataset and Milvus Lite for easy local development.\n",
        "#\n",
        "**Key Milvus Concepts Covered:**\n",
        "- Setting up Milvus Lite.\n",
        "- Defining a Collection schema with scalar and vector fields.\n",
        "- Inserting data, including vectors and metadata.\n",
        "- Creating indexes on vector fields and scalar fields.\n",
        "- Using boolean expressions (`expr`) for filtering, including the `LIKE` operator.\n",
        "- Discussing limitations of certain index types (e.g., Bitmap).\n",
        "- Combining vector search with metadata filters.\n",
        "#\n",
        "*For a full discussion on Milvus's architecture, scaling, and specific index types, please refer to our main guide.*"
      ]
    },
    {
      "cell_type": "code",
      "execution_count": 2,
      "id": "46b97eb1",
      "metadata": {},
      "outputs": [],
      "source": [
        "# 1. Setup\n",
        "# !pip install pymilvus==2.4.3 numpy pandas # Using a specific recent version supporting LIKE\n",
        "# Milvus Lite is bundled with pymilvus >= 2.2.4\n",
        "\n",
        "from pymilvus import connections, utility\n",
        "from pymilvus import CollectionSchema, FieldSchema, DataType, Collection\n",
        "from milvus import default_server\n",
        "from pymilvus import connections, utility\n",
        "# from pymilvus import MilvusClient # Can be used for Milvus Lite management\n",
        "\n",
        "import numpy as np\n",
        "import pandas as pd\n",
        "import time"
      ]
    },
    {
      "cell_type": "markdown",
      "id": "d600923a",
      "metadata": {},
      "source": [
        "## IMPORTANT: Setting up Milvus Lite\n",
        "#\n",
        "Milvus Lite runs Milvus locally within your Python environment.\n",
        "Pymilvus versions 2.4.x generally bundle a Milvus Lite core that supports\n",
        "features like the `LIKE` operator discussed in our article."
      ]
    },
    {
      "cell_type": "code",
      "execution_count": 3,
      "id": "198b0177",
      "metadata": {},
      "outputs": [
        {
          "name": "stdout",
          "output_type": "stream",
          "text": [
            "Successfully connected to Milvus using MilvusClient\n"
          ]
        }
      ],
      "source": [
        "from pymilvus import MilvusClient\n",
        "client = MilvusClient(\"./milvus_demo.db\")\n",
        "print(f\"Successfully connected to Milvus using MilvusClient\")"
      ]
    },
    {
      "cell_type": "code",
      "execution_count": 4,
      "id": "1377cfa8",
      "metadata": {},
      "outputs": [
        {
          "data": {
            "text/html": [
              "<div>\n",
              "<style scoped>\n",
              "    .dataframe tbody tr th:only-of-type {\n",
              "        vertical-align: middle;\n",
              "    }\n",
              "\n",
              "    .dataframe tbody tr th {\n",
              "        vertical-align: top;\n",
              "    }\n",
              "\n",
              "    .dataframe thead th {\n",
              "        text-align: right;\n",
              "    }\n",
              "</style>\n",
              "<table border=\"1\" class=\"dataframe\">\n",
              "  <thead>\n",
              "    <tr style=\"text-align: right;\">\n",
              "      <th></th>\n",
              "      <th>id</th>\n",
              "      <th>product_name</th>\n",
              "      <th>category</th>\n",
              "      <th>brand</th>\n",
              "      <th>price</th>\n",
              "      <th>rating</th>\n",
              "      <th>in_stock</th>\n",
              "      <th>release_year</th>\n",
              "      <th>vector</th>\n",
              "    </tr>\n",
              "  </thead>\n",
              "  <tbody>\n",
              "    <tr>\n",
              "      <th>0</th>\n",
              "      <td>P001</td>\n",
              "      <td>Smartwatch Series X</td>\n",
              "      <td>electronics</td>\n",
              "      <td>AlphaTech</td>\n",
              "      <td>299.99</td>\n",
              "      <td>4.5</td>\n",
              "      <td>True</td>\n",
              "      <td>2023</td>\n",
              "      <td>[0.7473844001701807, 0.2301659131005277, 0.974...</td>\n",
              "    </tr>\n",
              "    <tr>\n",
              "      <th>1</th>\n",
              "      <td>P002</td>\n",
              "      <td>Organic Green Tea</td>\n",
              "      <td>groceries</td>\n",
              "      <td>NaturePure</td>\n",
              "      <td>15.50</td>\n",
              "      <td>4.8</td>\n",
              "      <td>True</td>\n",
              "      <td>2022</td>\n",
              "      <td>[0.2395778541273892, 0.2744254339694293, 0.698...</td>\n",
              "    </tr>\n",
              "  </tbody>\n",
              "</table>\n",
              "</div>"
            ],
            "text/plain": [
              "     id         product_name     category       brand   price  rating  \\\n",
              "0  P001  Smartwatch Series X  electronics   AlphaTech  299.99     4.5   \n",
              "1  P002    Organic Green Tea    groceries  NaturePure   15.50     4.8   \n",
              "\n",
              "   in_stock  release_year                                             vector  \n",
              "0      True          2023  [0.7473844001701807, 0.2301659131005277, 0.974...  \n",
              "1      True          2022  [0.2395778541273892, 0.2744254339694293, 0.698...  "
            ]
          },
          "execution_count": 4,
          "metadata": {},
          "output_type": "execute_result"
        }
      ],
      "source": [
        "# 2. Data Preparation\n",
        "# Same synthetic product data\n",
        "data = [\n",
        "    {\"id\": \"P001\", \"product_name\": \"Smartwatch Series X\", \"category\": \"electronics\", \"brand\": \"AlphaTech\", \"price\": 299.99, \"rating\": 4.5, \"in_stock\": True, \"release_year\": 2023},\n",
        "    {\"id\": \"P002\", \"product_name\": \"Organic Green Tea\", \"category\": \"groceries\", \"brand\": \"NaturePure\", \"price\": 15.50, \"rating\": 4.8, \"in_stock\": True, \"release_year\": 2022},\n",
        "    {\"id\": \"P003\", \"product_name\": \"Running Shoes Pro\", \"category\": \"apparel\", \"brand\": \"FitStride\", \"price\": 120.00, \"rating\": 4.3, \"in_stock\": False, \"release_year\": 2023},\n",
        "    {\"id\": \"P004\", \"product_name\": \"Wireless Headphones\", \"category\": \"electronics\", \"brand\": \"AudioMax\", \"price\": 199.50, \"rating\": 4.7, \"in_stock\": True, \"release_year\": 2022},\n",
        "    {\"id\": \"P005\", \"product_name\": \"Advanced Yoga Mat\", \"category\": \"sports\", \"brand\": \"ZenFlow\", \"price\": 45.00, \"rating\": 4.9, \"in_stock\": True, \"release_year\": 2024},\n",
        "    {\"id\": \"P006\", \"product_name\": \"Smartphone Model Z\", \"category\": \"electronics\", \"brand\": \"AlphaTech\", \"price\": 799.00, \"rating\": 4.2, \"in_stock\": True, \"release_year\": 2023},\n",
        "]\n",
        "df = pd.DataFrame(data)\n",
        "\n",
        "vector_dim = 128\n",
        "df['vector'] = [np.random.rand(vector_dim).tolist() for _ in range(len(df))]\n",
        "df.head(2)"
      ]
    },
    {
      "cell_type": "code",
      "execution_count": 5,
      "id": "90b0f13a",
      "metadata": {},
      "outputs": [
        {
          "name": "stdout",
          "output_type": "stream",
          "text": [
            "Collection 'ProductCatalogMilvusV2' found. Dropping it.\n",
            "Collection 'ProductCatalogMilvusV2' created.\n"
          ]
        }
      ],
      "source": [
        "# 3. Collection Creation (Schema Definition)\n",
        "# Collection and schema definition\n",
        "collection_name = \"ProductCatalogMilvusV2\"\n",
        "\n",
        "# Check if collection exists and drop if needed\n",
        "if client.has_collection(collection_name):\n",
        "    print(f\"Collection '{collection_name}' found. Dropping it.\")\n",
        "    client.drop_collection(collection_name)\n",
        "    time.sleep(1)\n",
        "\n",
        "# METHOD 1: Use create_schema() method to create the schema object\n",
        "schema = client.create_schema()\n",
        "schema.add_field(field_name=\"product_pk_id\", datatype=DataType.VARCHAR, is_primary=True, max_length=100)\n",
        "schema.add_field(field_name=\"product_name\", datatype=DataType.VARCHAR, max_length=256)\n",
        "schema.add_field(field_name=\"category\", datatype=DataType.VARCHAR, max_length=100)\n",
        "schema.add_field(field_name=\"brand\", datatype=DataType.VARCHAR, max_length=100)\n",
        "schema.add_field(field_name=\"price\", datatype=DataType.FLOAT)\n",
        "schema.add_field(field_name=\"rating\", datatype=DataType.FLOAT)\n",
        "schema.add_field(field_name=\"in_stock\", datatype=DataType.BOOL)\n",
        "schema.add_field(field_name=\"release_year\", datatype=DataType.INT64)\n",
        "schema.add_field(field_name=\"embedding\", datatype=DataType.FLOAT_VECTOR, dim=vector_dim)\n",
        "\n",
        "# Create the collection\n",
        "client.create_collection(collection_name=collection_name, schema=schema)\n",
        "print(f\"Collection '{collection_name}' created.\")"
      ]
    },
    {
      "cell_type": "code",
      "execution_count": 6,
      "id": "01ed9914",
      "metadata": {},
      "outputs": [
        {
          "name": "stdout",
          "output_type": "stream",
          "text": [
            "Vector index definition created for 'embedding' field.\n"
          ]
        }
      ],
      "source": [
        "# 4. Create Index for Vector Field\n",
        "vector_index_params = client.prepare_index_params()\n",
        "vector_index_params.add_index(metric_type= \"L2\", index_type= \"FLAT\", params= {\"M\": 16, \"efConstruction\": 200},index_name=\"vector_hnsw_idx\",field_name=\"embedding\")\n",
        "client.create_index(collection_name=collection_name, index_params=vector_index_params)\n",
        "print(\"Vector index definition created for 'embedding' field.\")"
      ]
    },
    {
      "cell_type": "code",
      "execution_count": 7,
      "id": "5b8c0fc5",
      "metadata": {},
      "outputs": [
        {
          "name": "stdout",
          "output_type": "stream",
          "text": [
            "Inserted {'insert_count': 6, 'ids': ['P001', 'P002', 'P003', 'P004', 'P005', 'P006']} entities. Collection count: {'row_count': 6}\n"
          ]
        }
      ],
      "source": [
        "# 5. Inserting Data\n",
        "data_to_insert = []\n",
        "for _, row in df.iterrows():\n",
        "    data_to_insert.append({\n",
        "        \"product_pk_id\": row[\"id\"],\n",
        "        \"product_name\": row[\"product_name\"],\n",
        "        \"category\": row[\"category\"],\n",
        "        \"brand\": row[\"brand\"],\n",
        "        \"price\": float(row[\"price\"]),\n",
        "        \"rating\": float(row[\"rating\"]),\n",
        "        \"in_stock\": bool(row[\"in_stock\"]),\n",
        "        \"release_year\": int(row[\"release_year\"]),\n",
        "        \"embedding\": row[\"vector\"]\n",
        "    })\n",
        "insert_result = client.insert(collection_name=collection_name, data=data_to_insert)\n",
        "client.flush(collection_name=collection_name)\n",
        "print(f\"Inserted {insert_result} entities. Collection count: {client.get_collection_stats(collection_name=collection_name)}\")"
      ]
    },
    {
      "cell_type": "code",
      "execution_count": 8,
      "id": "c181867c",
      "metadata": {},
      "outputs": [
        {
          "name": "stdout",
          "output_type": "stream",
          "text": [
            "Creating scalar indexes...\n",
            "Scalar indexes created for 'product_name', 'category', and 'price'.\n",
            "Note: The 'product_name' index supports LIKE if Milvus version >= 2.4.\n"
          ]
        }
      ],
      "source": [
        "# 6. Create Indexes on Scalar Fields for Filtering Performance\n",
        "print(\"Creating scalar indexes...\")\n",
        "\n",
        "# Prepare an empty IndexParams object\n",
        "index_params = client.prepare_index_params()\n",
        "\n",
        "# Add indexes for each field\n",
        "index_params.add_index(\n",
        "    field_name=\"product_name\",\n",
        "    index_name=\"product_name_scalar_idx\"\n",
        "    # Type is omitted for auto-indexing\n",
        ")\n",
        "\n",
        "index_params.add_index(\n",
        "    field_name=\"category\",\n",
        "    index_name=\"category_scalar_idx\"\n",
        "    # Could be BITMAP if cardinality is low\n",
        ")\n",
        "\n",
        "index_params.add_index(\n",
        "    field_name=\"price\",\n",
        "    index_name=\"price_scalar_idx\"\n",
        ")\n",
        "\n",
        "# Create all indexes in one call\n",
        "client.create_index(\n",
        "    collection_name=collection_name,\n",
        "    index_params=index_params\n",
        ")\n",
        "\n",
        "print(\"Scalar indexes created for 'product_name', 'category', and 'price'.\")\n",
        "print(\"Note: The 'product_name' index supports LIKE if Milvus version >= 2.4.\")"
      ]
    },
    {
      "cell_type": "markdown",
      "id": "f941c0c6",
      "metadata": {},
      "source": [
        "### Bitmap Index Considerations (Note)\n",
        "\n",
        "Our main guide discusses Milvus's **Bitmap indexes**, which are highly efficient for filtering on **low-cardinality** scalar fields (typically fewer than 500 distinct values).\n",
        "\n",
        "**Key Limitations of Bitmap Indexes (from the article & Milvus docs):**\n",
        "- **Not for high-cardinality fields.**\n",
        "- **Not compatible with floating-point types (FLOAT, DOUBLE) or JSON data types.** They work well with `BOOL`, `INT` types, and `VARCHAR` fields that have few unique values.\n",
        "- Supported for scalar fields that are not primary keys.\n",
        "\n",
        "If our `category` field had very few unique values (e.g., <10 across millions of records), explicitly creating it as a BITMAP index could be beneficial using the newer MilvusClient approach:\n",
        "\n",
        "```python\n",
        "# Using MilvusClient to create a BITMAP index (if 'category' is low cardinality)\n",
        "# try:\n",
        "#     # Create index parameters\n",
        "#     index_params = client.prepare_index_params()\n",
        "#     \n",
        "#     # Add BITMAP index for the low-cardinality category field\n",
        "#     index_params.add_index(\n",
        "#         field_name=\"category\",\n",
        "#         index_type=\"BITMAP\",\n",
        "#         index_name=\"category_bitmap_idx\"\n",
        "#     )\n",
        "#     \n",
        "#     # Create the index\n",
        "#     client.create_index(\n",
        "#         collection_name=collection_name,\n",
        "#         index_params=index_params\n",
        "#     )\n",
        "#     print(\"BITMAP index created for 'category'.\")\n",
        "# except Exception as e:\n",
        "#     print(f\"Note on BITMAP: {e}\")\n",
        "```\n",
        "\n",
        "For most general VARCHAR fields or numerical fields like `price`, Milvus typically uses other scalar index types (like INVERTED or STL_SORT) by default. When using the newer MilvusClient API, you can often omit the index_type parameter to let Milvus choose the appropriate index type automatically."
      ]
    },
    {
      "cell_type": "code",
      "execution_count": 9,
      "id": "e7460955",
      "metadata": {},
      "outputs": [
        {
          "name": "stdout",
          "output_type": "stream",
          "text": [
            "Loading collection into memory...\n",
            "Collection loaded.\n"
          ]
        }
      ],
      "source": [
        "# Load the collection into memory for searching\n",
        "print(\"Loading collection into memory...\")\n",
        "client.load_collection(collection_name=collection_name, replica_number=1)\n",
        "print(\"Collection loaded.\")"
      ]
    },
    {
      "cell_type": "markdown",
      "id": "cef6cfcf",
      "metadata": {},
      "source": [
        "## 7. Metadata Filtering Examples (`expr`)\n",
        "#\n",
        "Milvus uses SQL-like boolean expressions (`expr`) for filtering.\n",
        "*Ensure your Milvus instance (or Milvus Lite via Pymilvus) is version 2.4 or newer for `LIKE` operator support.*"
      ]
    },
    {
      "cell_type": "code",
      "execution_count": 10,
      "id": "c8a7720a",
      "metadata": {},
      "outputs": [
        {
          "name": "stdout",
          "output_type": "stream",
          "text": [
            "\n",
            "--- Filtering with expr: category == \"electronics\" ---\n",
            "  ID: P004, Dist: 19.1212, Name: Wireless Headphones, Cat: electronics\n",
            "  ID: P006, Dist: 20.1757, Name: Smartphone Model Z, Cat: electronics\n",
            "  ID: P001, Dist: 20.3946, Name: Smartwatch Series X, Cat: electronics\n"
          ]
        }
      ],
      "source": [
        "query_vector = np.random.rand(vector_dim).tolist()\n",
        "TOP_K = 3\n",
        "OUTPUT_FIELDS = [\"product_pk_id\", \"product_name\", \"category\", \"brand\", \"price\", \"rating\", \"in_stock\", \"release_year\"]\n",
        "search_params_hnsw = {\"metric_type\": \"L2\", \"params\": {\"ef\": 20}}\n",
        "\n",
        "def print_milvus_results(results, query_desc=\"\"):\n",
        "    print(f\"\\n--- {query_desc} ---\")\n",
        "    if not results or not results[0]:\n",
        "        print(\"No results found.\")\n",
        "        return\n",
        "    for hits in results:\n",
        "        for hit in hits:\n",
        "            print(f\"  ID: {hit.entity.get('product_pk_id')}, Dist: {hit.distance:.4f}, Name: {hit.entity.get('product_name')}, Cat: {hit.entity.get('category')}\")\n",
        "            # print(f\"  Full Entity: {hit.entity.to_dict()}\") # For all fields\n",
        "\n",
        "# Example:\n",
        "expr_cat = 'category == \"electronics\"'\n",
        "# Define search parameters\n",
        "search_params_hnsw = {\"metric_type\": \"L2\", \"params\": {\"ef\": 20}}\n",
        "\n",
        "# Execute the search - note the parameter name changes\n",
        "results_cat = client.search(\n",
        "    collection_name=collection_name, \n",
        "    data=[query_vector],\n",
        "    anns_field=\"embedding\", \n",
        "    search_params=search_params_hnsw,  # Changed from param to search_params\n",
        "    filter=expr_cat,                   # Changed from expr to filter\n",
        "    limit=TOP_K,\n",
        "    output_fields=OUTPUT_FIELDS\n",
        "    # Removed consistency_level as it's not used in MilvusClient\n",
        ")\n",
        "print_milvus_results(results_cat, f\"Filtering with expr: {expr_cat}\")"
      ]
    },
    {
      "cell_type": "code",
      "execution_count": 11,
      "id": "2c0dc623",
      "metadata": {},
      "outputs": [
        {
          "name": "stdout",
          "output_type": "stream",
          "text": [
            "\n",
            "Attempting LIKE query (ensure Milvus version >= 2.4): product_name like \"Smartwatch%\"\n",
            "\n",
            "--- Filtering with expr: product_name like \"Smartwatch%\" ---\n",
            "  ID: P001, Dist: 20.3946, Name: Smartwatch Series X, Cat: electronics\n",
            "\n",
            "Attempting infix LIKE query: product_name like \"%Green Tea%\"\n",
            "\n",
            "--- Filtering with expr: product_name like \"%Green Tea%\" ---\n",
            "  ID: P002, Dist: 22.0829, Name: Organic Green Tea, Cat: groceries\n"
          ]
        }
      ],
      "source": [
        "# ### Example 7.6: `LIKE` operator for partial string matches\n",
        "#\n",
        "# As noted in our article, the `LIKE` operator was officially added in Milvus 2.4.\n",
        "# It requires a Milvus version >= 2.4 and the target VARCHAR field (e.g., `product_name`)\n",
        "# should have a scalar index created on it.\n",
        "# The \"%\" symbol is used as a wildcard.\n",
        "\n",
        "\n",
        "expr_like = 'product_name like \"Smartwatch%\"'\n",
        "print(f\"\\nAttempting LIKE query (ensure Milvus version >= 2.4): {expr_like}\")\n",
        "try:\n",
        "    results_like = client.search(\n",
        "        collection_name=collection_name,\n",
        "        data=[query_vector],\n",
        "        anns_field=\"embedding\",\n",
        "        search_params=search_params_hnsw,  # Changed from param to search_params\n",
        "        limit=TOP_K,\n",
        "        filter=expr_like,                  # Changed from expr to filter\n",
        "        output_fields=OUTPUT_FIELDS\n",
        "        # Removed consistency_level - not used in MilvusClient\n",
        "    )\n",
        "    print_milvus_results(results_like, f\"Filtering with expr: {expr_like}\")\n",
        "except Exception as e:\n",
        "    print(f\"Error during 'LIKE' query: {e}\")\n",
        "    print(\"This could be due to Milvus version < 2.4, issues with scalar index on 'product_name', or specific characters in the query string needing escape (e.g. literal '%').\")\n",
        "\n",
        "expr_like_infix = 'product_name like \"%Green Tea%\"'\n",
        "print(f\"\\nAttempting infix LIKE query: {expr_like_infix}\")\n",
        "try:\n",
        "    results_like_infix = client.search(\n",
        "        collection_name=collection_name,  # Added collection_name\n",
        "        data=[query_vector], \n",
        "        anns_field=\"embedding\", \n",
        "        search_params=search_params_hnsw,  # Changed from param\n",
        "        limit=TOP_K,\n",
        "        filter=expr_like_infix,           # Changed from expr\n",
        "        output_fields=OUTPUT_FIELDS\n",
        "        # Removed consistency_level\n",
        "    )\n",
        "    print_milvus_results(results_like_infix, f\"Filtering with expr: {expr_like_infix}\")\n",
        "except Exception as e:\n",
        "    print(f\"Error during infix 'LIKE' query: {e}\")"
      ]
    },
    {
      "cell_type": "markdown",
      "id": "fc288524",
      "metadata": {},
      "source": [
        "## 8. Discussion\n",
        "#\n",
        "- **Schema Enforcement:** Milvus's schema-first approach is good for data integrity, which is foundational for reliable filtering.\n",
        "- **`expr` Syntax:** The SQL-like `expr` offers powerful and familiar filtering. With version 2.4+, `LIKE` enhances string matching.\n",
        "- **Scalar Indexing:** Essential for filter performance. Understanding types like Bitmap (for low-cardinality) vs. others (e.g., INVERTED for general text) is key, as discussed in our main guide.\n",
        "- **Milvus Lite:** Greatly simplifies local development and testing of these features.\n",
        "#\n",
        "*Our comprehensive guide provides a deeper comparison of Milvus against other vector databases and its optimal use cases.*"
      ]
    },
    {
      "cell_type": "code",
      "execution_count": null,
      "id": "a0e415ce",
      "metadata": {},
      "outputs": [
        {
          "name": "stdout",
          "output_type": "stream",
          "text": [
            "\n",
            "Cleaning up Milvus resources...\n"
          ]
        }
      ],
      "source": [
        "# 9. Cleanup\n",
        "print(f\"\\nCleaning up Milvus resources...\")\n",
        "\n",
        "# With MilvusClient, there's no separate \"release\" step needed - resources are managed automatically\n",
        "\n",
        "user_confirmation = input(f\"Do you want to drop the collection '{collection_name}'? (yes/no): \")\n",
        "if user_confirmation.lower() == 'yes':\n",
        "    if client.has_collection(collection_name):\n",
        "        print(f\"Dropping collection '{collection_name}'...\")\n",
        "        client.drop_collection(collection_name)\n",
        "        print(\"Collection dropped.\")\n",
        "else:\n",
        "    print(f\"Collection '{collection_name}' was not deleted.\")\n",
        "\n",
        "print(\"Closing Milvus client connection...\")\n",
        "# Close the MilvusClient (this properly cleans up resources)\n",
        "client.close()\n",
        "\n",
        "print(\"\\nMilvus demo finished.\")"
      ]
    },
    {
      "cell_type": "markdown",
      "id": "16d36501",
      "metadata": {},
      "source": [
        "## Conclusion\n",
        "#\n",
        "This Milvus notebook highlighted its robust metadata filtering via `expr`, including the `LIKE` operator for string patterns (in Milvus >= 2.4).\n",
        "Effective use of scalar indexing, and understanding specific index behaviors like Bitmap limitations, are crucial for leveraging Milvus's performance at scale.\n",
        "#\n",
        "*Consult our main guide for comprehensive selection criteria and advanced feature discussions.*"
      ]
    }
  ],
  "metadata": {
    "colab": {
      "provenance": []
    },
    "kernelspec": {
      "display_name": "Python 3",
      "name": "python3"
    },
    "language_info": {
      "codemirror_mode": {
        "name": "ipython",
        "version": 3
      },
      "file_extension": ".py",
      "mimetype": "text/x-python",
      "name": "python",
      "nbconvert_exporter": "python",
      "pygments_lexer": "ipython3",
      "version": "3.13.1"
    }
  },
  "nbformat": 4,
  "nbformat_minor": 5
}
