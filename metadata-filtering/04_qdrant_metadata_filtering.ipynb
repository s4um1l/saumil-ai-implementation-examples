{
  "cells": [
    {
      "cell_type": "markdown",
      "metadata": {},
      "source": [
        "# Metadata Filtering in Vector Search: Qdrant Demo\n",
        "#\n",
        "This notebook demonstrates metadata filtering capabilities in Qdrant,\n",
        "concluding our series based on the \"Metadata Filtering in Vector Search: A Comprehensive Guide for Engineering Leaders\".\n",
        "We'll use the familiar synthetic product dataset and highlight Qdrant's strengths with flexible JSON payloads.\n",
        "#\n",
        "**Key Qdrant Concepts Covered:**\n",
        "- Starting a Qdrant instance (e.g., via Docker).\n",
        "- Creating a collection with vector configuration.\n",
        "- Qdrant's schemaless approach to JSON metadata payloads.\n",
        "- Upserting points (vectors + payloads), including nested structures.\n",
        "- Creating payload indexes (keyword, text, float, integer) for performance.\n",
        "- Using Qdrant's rich filtering syntax (`query_filter`) with `must`, `should`, `must_not`.\n",
        "- Demonstrating filtering on deeply nested payload keys.\n",
        "#\n",
        "*For an in-depth analysis of Qdrant's features, its query planner, and how it compares for different organization sizes, please consult our main guide.*"
      ]
    },
    {
      "cell_type": "code",
      "execution_count": 3,
      "metadata": {},
      "outputs": [],
      "source": [
        "# 1. Setup\n",
        "# !pip install qdrant-client numpy pandas\n",
        "\n",
        "from qdrant_client import QdrantClient, models\n",
        "from qdrant_client.http.models import PointStruct, Distance, VectorParams\n",
        "from qdrant_client.http.models import PayloadSchemaType # For payload indexing\n",
        "\n",
        "import numpy as np\n",
        "import pandas as pd\n",
        "import uuid # For generating unique IDs if needed\n",
        "import time"
      ]
    },
    {
      "cell_type": "markdown",
      "metadata": {},
      "source": [
        "## IMPORTANT: Starting Qdrant\n",
        "\n",
        "Before running this notebook, ensure you have a Qdrant instance running.\n",
        "The recommended way for local development is Docker:\n",
        "\n",
        "```bash\n",
        "docker run -d --name qdrant-demo \\\n",
        "    -p 6333:6333 \\\n",
        "    -p 6334:6334 \\\n",
        "    qdrant/qdrant:latest\n",
        "```\n",
        "This command starts the latest stable Qdrant version. It exposes the REST API on port 6333.\n",
        "\n",
        "If you have an existing Qdrant instance, ensure it's accessible."
      ]
    },
    {
      "cell_type": "code",
      "execution_count": 7,
      "metadata": {},
      "outputs": [
        {
          "name": "stdout",
          "output_type": "stream",
          "text": [
            "Qdrant client connected successfully to http://localhost:6333.\n"
          ]
        }
      ],
      "source": [
        "# Initialize Qdrant Client\n",
        "QDRANT_URL = \"http://localhost:6333\"\n",
        "\n",
        "try:\n",
        "    client = QdrantClient(url=QDRANT_URL)\n",
        "    print(f\"Qdrant client connected successfully to {QDRANT_URL}.\")\n",
        "    # For more details: print(client.get_collections())\n",
        "except Exception as e:\n",
        "    print(f\"Error connecting to Qdrant at {QDRANT_URL}: {e}\")\n",
        "    print(\"Please ensure Qdrant is running and accessible.\")"
      ]
    },
    {
      "cell_type": "code",
      "execution_count": 8,
      "metadata": {},
      "outputs": [
        {
          "name": "stdout",
          "output_type": "stream",
          "text": [
            "Prepared 6 items with mock embeddings of dimension 128.\n"
          ]
        },
        {
          "data": {
            "text/html": [
              "<div>\n",
              "<style scoped>\n",
              "    .dataframe tbody tr th:only-of-type {\n",
              "        vertical-align: middle;\n",
              "    }\n",
              "\n",
              "    .dataframe tbody tr th {\n",
              "        vertical-align: top;\n",
              "    }\n",
              "\n",
              "    .dataframe thead th {\n",
              "        text-align: right;\n",
              "    }\n",
              "</style>\n",
              "<table border=\"1\" class=\"dataframe\">\n",
              "  <thead>\n",
              "    <tr style=\"text-align: right;\">\n",
              "      <th></th>\n",
              "      <th>qdrant_id</th>\n",
              "      <th>id_str</th>\n",
              "      <th>product_name</th>\n",
              "      <th>specs</th>\n",
              "    </tr>\n",
              "  </thead>\n",
              "  <tbody>\n",
              "    <tr>\n",
              "      <th>0</th>\n",
              "      <td>1</td>\n",
              "      <td>P001</td>\n",
              "      <td>Smartwatch Series X</td>\n",
              "      <td>{'display': {'type': 'AMOLED', 'size_inches': ...</td>\n",
              "    </tr>\n",
              "    <tr>\n",
              "      <th>1</th>\n",
              "      <td>2</td>\n",
              "      <td>P002</td>\n",
              "      <td>Organic Green Tea</td>\n",
              "      <td>{'origin': 'Japan', 'type': 'Sencha', 'packagi...</td>\n",
              "    </tr>\n",
              "  </tbody>\n",
              "</table>\n",
              "</div>"
            ],
            "text/plain": [
              "   qdrant_id id_str         product_name  \\\n",
              "0          1   P001  Smartwatch Series X   \n",
              "1          2   P002    Organic Green Tea   \n",
              "\n",
              "                                               specs  \n",
              "0  {'display': {'type': 'AMOLED', 'size_inches': ...  \n",
              "1  {'origin': 'Japan', 'type': 'Sencha', 'packagi...  "
            ]
          },
          "execution_count": 8,
          "metadata": {},
          "output_type": "execute_result"
        }
      ],
      "source": [
        "# 2. Data Preparation\n",
        "# Enhanced synthetic product data with a nested 'specs' field\n",
        "data = [\n",
        "    {\"id_str\": \"P001\", \"product_name\": \"Smartwatch Series X\", \"category\": \"electronics\", \"brand\": \"AlphaTech\", \"price\": 299.99, \"rating\": 4.5, \"in_stock\": True, \"release_year\": 2023, \"specs\": {\"display\": {\"type\": \"AMOLED\", \"size_inches\": 1.4}, \"material\": \"aluminum\", \"water_resistant_atm\": 5}},\n",
        "    {\"id_str\": \"P002\", \"product_name\": \"Organic Green Tea\", \"category\": \"groceries\", \"brand\": \"NaturePure\", \"price\": 15.50, \"rating\": 4.8, \"in_stock\": True, \"release_year\": 2022, \"specs\": {\"origin\": \"Japan\", \"type\": \"Sencha\", \"packaging_grams\": 100}},\n",
        "    {\"id_str\": \"P003\", \"product_name\": \"Running Shoes Pro\", \"category\": \"apparel\", \"brand\": \"FitStride\", \"price\": 120.00, \"rating\": 4.3, \"in_stock\": False, \"release_year\": 2023, \"specs\": {\"type\": \"neutral\", \"terrain\": \"road\", \"drop_mm\": 8}},\n",
        "    {\"id_str\": \"P004\", \"product_name\": \"Wireless Noise-Cancelling Headphones\", \"category\": \"electronics\", \"brand\": \"AudioMax\", \"price\": 199.50, \"rating\": 4.7, \"in_stock\": True, \"release_year\": 2022, \"specs\": {\"connection\": \"Bluetooth 5.2\", \"driver_mm\": 40, \"battery_hours\": 30}},\n",
        "    {\"id_str\": \"P005\", \"product_name\": \"Advanced Yoga Mat\", \"category\": \"sports\", \"brand\": \"ZenFlow\", \"price\": 45.00, \"rating\": 4.9, \"in_stock\": True, \"release_year\": 2024, \"specs\": {\"material\": \"TPE\", \"thickness_mm\": 6, \"eco_friendly\": True}},\n",
        "    {\"id_str\": \"P006\", \"product_name\": \"Smartphone Model Z\", \"category\": \"electronics\", \"brand\": \"AlphaTech\", \"price\": 799.00, \"rating\": 4.2, \"in_stock\": True, \"release_year\": 2023, \"specs\": {\"display\": {\"type\": \"OLED\", \"size_inches\": 6.7}, \"storage_gb\": 256, \"camera_mp\": 108}},\n",
        "]\n",
        "df = pd.DataFrame(data)\n",
        "\n",
        "# Qdrant point IDs: using integers mapped from original string IDs for simplicity\n",
        "df['qdrant_id'] = range(1, len(df) + 1)\n",
        "\n",
        "vector_dim = 128\n",
        "df['vector'] = [np.random.rand(vector_dim).tolist() for _ in range(len(df))]\n",
        "\n",
        "print(f\"Prepared {len(df)} items with mock embeddings of dimension {vector_dim}.\")\n",
        "df[['qdrant_id', 'id_str', 'product_name', 'specs']].head(2)"
      ]
    },
    {
      "cell_type": "code",
      "execution_count": 9,
      "metadata": {},
      "outputs": [
        {
          "name": "stdout",
          "output_type": "stream",
          "text": [
            "Creating collection 'qdrant_product_catalog_v2'...\n",
            "Collection 'qdrant_product_catalog_v2' created successfully.\n"
          ]
        }
      ],
      "source": [
        "# 3. Collection Creation\n",
        "collection_name = \"qdrant_product_catalog_v2\"\n",
        "\n",
        "try:\n",
        "    if client.collection_exists(collection_name=collection_name):\n",
        "        print(f\"Collection '{collection_name}' already exists. Deleting it.\")\n",
        "        client.delete_collection(collection_name=collection_name)\n",
        "        time.sleep(1)\n",
        "except Exception as e:\n",
        "    print(f\"Note: Could not check/delete collection (may not exist): {e}\")\n",
        "\n",
        "print(f\"Creating collection '{collection_name}'...\")\n",
        "client.create_collection(\n",
        "    collection_name=collection_name,\n",
        "    vectors_config=models.VectorParams(size=vector_dim, distance=models.Distance.COSINE)\n",
        ")\n",
        "print(f\"Collection '{collection_name}' created successfully.\")"
      ]
    },
    {
      "cell_type": "code",
      "execution_count": 11,
      "metadata": {},
      "outputs": [
        {
          "name": "stdout",
          "output_type": "stream",
          "text": [
            "Upsert operation status: completed\n",
            "Collection point count: 6\n"
          ]
        }
      ],
      "source": [
        "# 4. Upserting Data (Points with Payloads, including Nested JSON)\n",
        "# Qdrant excels with flexible JSON payloads.\n",
        "points_to_upsert = []\n",
        "for _, row in df.iterrows():\n",
        "    payload = {\n",
        "        \"original_id\": row[\"id_str\"],\n",
        "        \"product_name\": row[\"product_name\"],\n",
        "        \"category\": row[\"category\"],\n",
        "        \"brand\": row[\"brand\"],\n",
        "        \"price\": float(row[\"price\"]),\n",
        "        \"rating\": float(row[\"rating\"]),\n",
        "        \"in_stock\": bool(row[\"in_stock\"]),\n",
        "        \"release_year\": int(row[\"release_year\"]),\n",
        "        \"specs\": row[\"specs\"] # Directly pass the nested dictionary\n",
        "    }\n",
        "    points_to_upsert.append(\n",
        "        models.PointStruct(\n",
        "            id=int(row[\"qdrant_id\"]),\n",
        "            vector=row[\"vector\"],\n",
        "            payload=payload\n",
        "        )\n",
        "    )\n",
        "\n",
        "operation_info = client.upsert(collection_name=collection_name, wait=True, points=points_to_upsert)\n",
        "print(f\"Upsert operation status: {operation_info.status}\")\n",
        "time.sleep(1)\n",
        "print(f\"Collection point count: {client.get_collection(collection_name=collection_name).points_count}\")"
      ]
    },
    {
      "cell_type": "code",
      "execution_count": 13,
      "metadata": {},
      "outputs": [
        {
          "name": "stdout",
          "output_type": "stream",
          "text": [
            "Creating payload indexes...\n",
            "Payload index created for 'category' (keyword for exact matches).\n",
            "Payload index created for 'product_name' (text for full-text search).\n",
            "Payload index created for 'price'.\n",
            "Payload index created for 'release_year'.\n",
            "Payload index created for nested field 'specs.display.type'.\n",
            "\n",
            "Available indexed fields for filtering:\n",
            "- specs.display.type - keyword\n",
            "- category - keyword\n",
            "- release_year - integer\n",
            "- product_name - text\n",
            "- price - float\n"
          ]
        }
      ],
      "source": [
        "# 5. Creating Payload Indexes for Filtering Performance\n",
        "# As our main guide emphasizes, payload indexing is crucial for filter performance in Qdrant.\n",
        "print(\"Creating payload indexes...\")\n",
        "try:\n",
        "    client.create_payload_index(collection_name=collection_name, field_name=\"category\", field_schema=models.PayloadSchemaType.KEYWORD)\n",
        "    print(\"Payload index created for 'category' (keyword for exact matches).\")\n",
        "    \n",
        "    # Example for a text field with more advanced text search capabilities\n",
        "    # Use TextIndexParams for text-specific configurations\n",
        "    client.create_payload_index(\n",
        "        collection_name=collection_name, \n",
        "        field_name=\"product_name\", \n",
        "        field_schema=models.TextIndexParams(\n",
        "            type=\"text\",\n",
        "            tokenizer=models.TokenizerType.WORD,\n",
        "            lowercase=True,\n",
        "            min_token_len=2,\n",
        "            max_token_len=15\n",
        "        )\n",
        "    )\n",
        "    print(\"Payload index created for 'product_name' (text for full-text search).\")\n",
        "\n",
        "    # Rest of your index creation code...\n",
        "    client.create_payload_index(collection_name=collection_name, field_name=\"price\", field_schema=models.PayloadSchemaType.FLOAT)\n",
        "    print(\"Payload index created for 'price'.\")\n",
        "    \n",
        "    client.create_payload_index(collection_name=collection_name, field_name=\"release_year\", field_schema=models.PayloadSchemaType.INTEGER)\n",
        "    print(\"Payload index created for 'release_year'.\")\n",
        "\n",
        "    # Indexing a nested field. Use dot notation for the path.\n",
        "    client.create_payload_index(collection_name=collection_name, field_name=\"specs.display.type\", field_schema=models.PayloadSchemaType.KEYWORD)\n",
        "    print(\"Payload index created for nested field 'specs.display.type'.\")\n",
        "    \n",
        "    # Display available fields for filtering after creating indexes\n",
        "    collection_info = client.get_collection(collection_name=collection_name)\n",
        "    print(\"\\nAvailable indexed fields for filtering:\")\n",
        "    for field_name, schema in collection_info.payload_schema.items():\n",
        "        print(f\"- {field_name} - {schema.data_type}\")\n",
        "    \n",
        "    time.sleep(1)\n",
        "except Exception as e:\n",
        "    print(f\"Error creating payload index: {e}\")"
      ]
    },
    {
      "cell_type": "markdown",
      "metadata": {},
      "source": [
        "## 6. Metadata Filtering Examples (`query_filter`)\n",
        "#\n",
        "Qdrant's `query_filter` uses `must` (AND), `should` (OR), and `must_not` clauses with `FieldCondition`s.\n",
        "Its strength in handling nested JSON is a key differentiator, as highlighted in our comprehensive guide."
      ]
    },
    {
      "cell_type": "code",
      "execution_count": 22,
      "metadata": {},
      "outputs": [
        {
          "name": "stdout",
          "output_type": "stream",
          "text": [
            "\n",
            "--- Filtering for category 'electronics' ---\n",
            "  Point ID: 1, Score: 0.7993\n",
            "  Name: Smartwatch Series X\n",
            "  Category: electronics, Price: 299.99\n",
            "  Display Type: AMOLED\n",
            "  Point ID: 6, Score: 0.7775\n",
            "  Name: Smartphone Model Z\n",
            "  Category: electronics, Price: 799.0\n",
            "  Display Type: OLED\n",
            "  Point ID: 4, Score: 0.7536\n",
            "  Name: Wireless Noise-Cancelling Headphones\n",
            "  Category: electronics, Price: 199.5\n"
          ]
        }
      ],
      "source": [
        "query_vector = np.random.rand(vector_dim).tolist()\n",
        "TOP_K = 3\n",
        "\n",
        "def print_qdrant_results(points, query_desc=\"\"):\n",
        "    print(f\"\\n--- {query_desc} ---\")\n",
        "    if not points or len(points) == 0:\n",
        "        print(\"No results found.\")\n",
        "        return\n",
        "    \n",
        "    for point in points:\n",
        "        # Proper way to access point information\n",
        "        print(f\"  Point ID: {point.id}, Score: {point.score:.4f}\")\n",
        "        \n",
        "        # Access payload safely\n",
        "        if hasattr(point, 'payload') and point.payload:\n",
        "            name = point.payload.get('product_name', 'N/A')\n",
        "            category = point.payload.get('category', 'N/A') \n",
        "            price = point.payload.get('price', 'N/A')\n",
        "            \n",
        "            # Handle nested dictionary access safely\n",
        "            specs = point.payload.get('specs', {})\n",
        "            display_type = None\n",
        "            if specs and 'display' in specs and isinstance(specs['display'], dict):\n",
        "                display_type = specs['display'].get('type', 'N/A')\n",
        "            \n",
        "            print(f\"  Name: {name}\")\n",
        "            print(f\"  Category: {category}, Price: {price}\")\n",
        "            if display_type:\n",
        "                print(f\"  Display Type: {display_type}\")\n",
        "# Example:\n",
        "filter_cat = models.Filter(must=[models.FieldCondition(key=\"category\", match=models.MatchValue(value=\"electronics\"))])\n",
        "results_response = client.query_points(\n",
        "    collection_name=collection_name,\n",
        "    query=query_vector, \n",
        "    query_filter=filter_cat,\n",
        "    limit=TOP_K, \n",
        "    with_payload=True\n",
        ")\n",
        "\n",
        "# Access the points list from the response\n",
        "results_points = results_response.points\n",
        "\n",
        "# Then pass the points list to your print function\n",
        "print_qdrant_results(results_points, \"Filtering for category 'electronics'\")"
      ]
    },
    {
      "cell_type": "code",
      "execution_count": 23,
      "metadata": {},
      "outputs": [
        {
          "name": "stdout",
          "output_type": "stream",
          "text": [
            "\n",
            "--- Filtering for 'electronics' with 'OLED' display (nested filter) ---\n",
            "  Point ID: 6, Score: 0.7775\n",
            "  Name: Smartphone Model Z\n",
            "  Category: electronics, Price: 799.0\n",
            "  Display Type: OLED\n"
          ]
        },
        {
          "name": "stderr",
          "output_type": "stream",
          "text": [
            "/var/folders/6r/x3_yr7_963z3vyxwd1f2_jqh0000gn/T/ipykernel_3214/629844565.py:15: DeprecationWarning: `search` method is deprecated and will be removed in the future. Use `query_points` instead.\n",
            "  results_nested = client.search(\n"
          ]
        }
      ],
      "source": [
        "# ### Example 6.7: Filtering on Nested JSON Fields\n",
        "# As our guide emphasizes, Qdrant excels at filtering on nested JSON structures.\n",
        "# Let's find electronics that have an \"OLED\" display type.\n",
        "# The path to the nested key is `specs.display.type`.\n",
        "\n",
        "filter_nested = models.Filter(\n",
        "    must=[\n",
        "        models.FieldCondition(key=\"category\", match=models.MatchValue(value=\"electronics\")), # Main category\n",
        "        models.FieldCondition(\n",
        "            key=\"specs.display.type\",  # Dot notation for nested field\n",
        "            match=models.MatchValue(value=\"OLED\")\n",
        "        )\n",
        "    ]\n",
        ")\n",
        "results_nested = client.search(\n",
        "    collection_name=collection_name,\n",
        "    query_vector=query_vector,\n",
        "    query_filter=filter_nested,\n",
        "    limit=TOP_K,\n",
        "    with_payload=True # Crucial to see the payload\n",
        ")\n",
        "print_qdrant_results(results_nested, \"Filtering for 'electronics' with 'OLED' display (nested filter)\")"
      ]
    },
    {
      "cell_type": "code",
      "execution_count": 33,
      "metadata": {},
      "outputs": [
        {
          "name": "stdout",
          "output_type": "stream",
          "text": [
            "\n",
            "--- Filtering for electronics with large displays OR products made of aluminum/TPE ---\n",
            "  Point ID: 1, Score: 0.7993\n",
            "  Name: Smartwatch Series X\n",
            "  Category: electronics, Price: 299.99\n",
            "  Display Type: AMOLED\n",
            "  Point ID: 5, Score: 0.7892\n",
            "  Name: Advanced Yoga Mat\n",
            "  Category: sports, Price: 45.0\n",
            "  Point ID: 6, Score: 0.7775\n",
            "  Name: Smartphone Model Z\n",
            "  Category: electronics, Price: 799.0\n",
            "  Display Type: OLED\n"
          ]
        },
        {
          "name": "stderr",
          "output_type": "stream",
          "text": [
            "/var/folders/6r/x3_yr7_963z3vyxwd1f2_jqh0000gn/T/ipykernel_3214/2867647679.py:21: DeprecationWarning: `search` method is deprecated and will be removed in the future. Use `query_points` instead.\n",
            "  results_complex_nested = client.search(\n"
          ]
        }
      ],
      "source": [
        "# ### Example 6.8: More Complex Nested Filter with Our Dataset\n",
        "# Find products with:\n",
        "# 1. Either large displays (> 6.0 inches) for smartphones\n",
        "# 2. OR specific materials (aluminum OR TPE) for watches and yoga mats\n",
        "\n",
        "filter_complex_nested = models.Filter(\n",
        "    should=[\n",
        "        # Electronic products with large displays (matches Smartphone Model Z)\n",
        "        models.Filter(\n",
        "            must=[\n",
        "                models.FieldCondition(key=\"category\", match=models.MatchValue(value=\"electronics\")),\n",
        "                models.FieldCondition(key=\"specs.display.size_inches\", range=models.Range(gt=6.0))\n",
        "            ]\n",
        "        ),\n",
        "        # Products with specific materials (matches Smartwatch and Yoga Mat)\n",
        "        models.FieldCondition(key=\"specs.material\", match=models.MatchValue(value=\"aluminum\")),\n",
        "        models.FieldCondition(key=\"specs.material\", match=models.MatchValue(value=\"TPE\"))\n",
        "    ],\n",
        ")\n",
        "\n",
        "results_complex_nested = client.search(\n",
        "    collection_name=collection_name,\n",
        "    query_vector=query_vector,\n",
        "    query_filter=filter_complex_nested,\n",
        "    limit=TOP_K,\n",
        "    with_payload=True\n",
        ")\n",
        "print_qdrant_results(results_complex_nested, \"Filtering for electronics with large displays OR products made of aluminum/TPE\")"
      ]
    },
    {
      "cell_type": "code",
      "execution_count": 25,
      "id": "5089dca5",
      "metadata": {},
      "outputs": [
        {
          "name": "stdout",
          "output_type": "stream",
          "text": [
            "\n",
            "--- Text search for products with 'wireless' in the name ---\n",
            "  Point ID: 4, Score: 0.7536\n",
            "  Name: Wireless Noise-Cancelling Headphones\n",
            "  Category: electronics, Price: 199.5\n"
          ]
        },
        {
          "name": "stderr",
          "output_type": "stream",
          "text": [
            "/var/folders/6r/x3_yr7_963z3vyxwd1f2_jqh0000gn/T/ipykernel_3214/2272895253.py:11: DeprecationWarning: `search` method is deprecated and will be removed in the future. Use `query_points` instead.\n",
            "  results_text = client.search(\n"
          ]
        }
      ],
      "source": [
        "# ### Example 6.9: Text Search on Product Names\n",
        "# Qdrant's text indexing allows for flexible text searches on payload fields\n",
        "filter_text = models.Filter(\n",
        "    must=[\n",
        "        models.FieldCondition(\n",
        "            key=\"product_name\",\n",
        "            match=models.MatchText(text=\"wireless\")  # Text search is case-insensitive if configured\n",
        "        )\n",
        "    ]\n",
        ")\n",
        "results_text = client.search(\n",
        "    collection_name=collection_name,\n",
        "    query_vector=query_vector,\n",
        "    query_filter=filter_text,\n",
        "    limit=TOP_K,\n",
        "    with_payload=True\n",
        ")\n",
        "print_qdrant_results(results_text, \"Text search for products with 'wireless' in the name\")"
      ]
    },
    {
      "cell_type": "markdown",
      "metadata": {},
      "source": [
        "## 7. Discussion\n",
        "#\n",
        "- **Flexible Payloads & Nested Filtering:** Qdrant's ability to handle schemaless JSON payloads, including deeply nested structures, and filter on them using dot notation is a significant advantage for complex metadata scenarios. This aligns with the flexibility highlighted in our main guide.\n",
        "- **Rich Filter Syntax:** The `must`/`should`/`must_not` structure allows for expressive and complex logical combinations.\n",
        "- **Payload Indexing:** Crucial for performance. Qdrant supports indexing various payload types, including `keyword` for exact matches, `text` for more general text search on metadata (with configurable tokenizers), `integer`, `float`, and `geo`.\n",
        "- **Developer Experience:** The Python client and JSON-like filter objects are generally intuitive.\n",
        "#\n",
        "*Our comprehensive guide further details Qdrant's query planning, suitability for different organizational sizes, and its pros and cons.*"
      ]
    },
    {
      "cell_type": "code",
      "execution_count": 34,
      "metadata": {},
      "outputs": [
        {
          "name": "stdout",
          "output_type": "stream",
          "text": [
            "Collection 'qdrant_product_catalog_v2' was not deleted.\n",
            "Qdrant client closed.\n",
            "\n",
            "Remember to stop the Qdrant Docker container if you started it for this demo:\n",
            "docker stop qdrant-demo-v192 && docker rm qdrant-demo-v192\n"
          ]
        }
      ],
      "source": [
        "# 8. Cleanup\n",
        "user_confirmation = input(f\"Do you want to delete the collection '{collection_name}'? (yes/no): \")\n",
        "if user_confirmation.lower() == 'yes':\n",
        "    try:\n",
        "        if client.collection_exists(collection_name=collection_name):\n",
        "            client.delete_collection(collection_name=collection_name)\n",
        "            print(f\"Collection '{collection_name}' deleted.\")\n",
        "    except Exception as e:\n",
        "        print(f\"Error deleting collection: {e}\")\n",
        "else:\n",
        "    print(f\"Collection '{collection_name}' was not deleted.\")\n",
        "\n",
        "client.close()\n",
        "print(\"Qdrant client closed.\")\n",
        "print(\"\\nRemember to stop the Qdrant Docker container if you started it for this demo:\")\n",
        "print(\"docker stop qdrant-demo-v192 && docker rm qdrant-demo-v192\")"
      ]
    },
    {
      "cell_type": "markdown",
      "metadata": {},
      "source": [
        "## Conclusion\n",
        "#\n",
        "This Qdrant notebook demonstrated its powerful and flexible metadata filtering,\n",
        "particularly its handling of nested JSON payloads and the utility of payload indexing.\n",
        "Its rich filter syntax makes it adaptable for various complex querying needs.\n",
        "#\n",
        "*To make an informed decision for your AI infrastructure, refer to our main guide for a complete comparison and strategic considerations.*"
      ]
    }
  ],
  "metadata": {
    "colab": {
      "provenance": []
    },
    "kernelspec": {
      "display_name": "Python 3",
      "name": "python3"
    },
    "language_info": {
      "codemirror_mode": {
        "name": "ipython",
        "version": 3
      },
      "file_extension": ".py",
      "mimetype": "text/x-python",
      "name": "python",
      "nbconvert_exporter": "python",
      "pygments_lexer": "ipython3",
      "version": "3.13.1"
    }
  },
  "nbformat": 4,
  "nbformat_minor": 5
}
