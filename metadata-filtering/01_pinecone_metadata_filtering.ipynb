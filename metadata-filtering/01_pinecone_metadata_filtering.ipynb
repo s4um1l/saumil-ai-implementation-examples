{
  "cells": [
    {
      "cell_type": "markdown",
      "metadata": {},
      "source": [
        "# Metadata Filtering in Vector Search: Pinecone Demo\n",
        "#\n",
        "This notebook demonstrates how to implement metadata filtering with Pinecone,\n",
        "as discussed in the \"Metadata Filtering in Vector Search: A Comprehensive Guide for Engineering Leaders\".\n",
        "We will use a synthetic product dataset to illustrate various filtering techniques and\n",
        "touch upon newer features like sparse-dense vectors.\n",
        "#\n",
        "**Key Concepts Covered:**\n",
        "- Upserting vectors with JSON metadata.\n",
        "- Filtering with MongoDB-style query language.\n",
        "- Combining vector search with metadata filters.\n",
        "- Using namespaces for coarse-grained filtering.\n",
        "- Conceptual demonstration of sparse-dense vectors for hybrid search.\n",
        "- Important considerations for Pinecone serverless metadata.\n",
        "#\n",
        "*For a full discussion of these concepts and their business impact, please refer to our main guide.*"
      ]
    },
    {
      "cell_type": "code",
      "execution_count": 4,
      "metadata": {},
      "outputs": [],
      "source": [
        "# 1. Setup\n",
        "#!pip install pinecone-client numpy pandas\n",
        "\n",
        "import os\n",
        "import time\n",
        "import numpy as np\n",
        "import pandas as pd\n",
        "import getpass\n",
        "from pinecone import Pinecone, ServerlessSpec, PodSpec # Added PodSpec for context"
      ]
    },
    {
      "cell_type": "markdown",
      "metadata": {},
      "source": [
        "**IMPORTANT:**\n",
        "Replace `YOUR_API_KEY` with your actual Pinecone API key.\n",
        "You can get one from [https://app.pinecone.io/](https://app.pinecone.io/).\n",
        "#\n",
        "For this demo, we'll primarily focus on a serverless index. Some features like direct hybrid search with an alpha parameter are more straightforward with pod-based indexes using `dotproduct`, while serverless might encourage separate sparse/dense index querying. We will illustrate the data structure for sparse-dense."
      ]
    },
    {
      "cell_type": "code",
      "execution_count": 5,
      "metadata": {},
      "outputs": [
        {
          "name": "stdout",
          "output_type": "stream",
          "text": [
            "Pinecone initialized successfully.\n"
          ]
        }
      ],
      "source": [
        "# Initialize Pinecone connection\n",
        "try:\n",
        "    api_key = getpass.getpass(\"Enter your Pinecone API key: \")  # Securely prompt for API key\n",
        "    if not api_key:\n",
        "        raise ValueError(\"PINECONE_API_KEY environment variable not set or empty.\")\n",
        "\n",
        "    pc = Pinecone(api_key=api_key)\n",
        "    print(\"Pinecone initialized successfully.\")\n",
        "except Exception as e:\n",
        "    print(f\"Error initializing Pinecone: {e}\")\n",
        "    print(\"Please ensure your API key is correct and you have internet access.\")"
      ]
    },
    {
      "cell_type": "code",
      "execution_count": 6,
      "metadata": {},
      "outputs": [
        {
          "name": "stdout",
          "output_type": "stream",
          "text": [
            "Prepared 6 items with mock dense and sparse embeddings.\n",
            "     id         product_name  \\\n",
            "0  P001  Smartwatch Series X   \n",
            "1  P002    Organic Green Tea   \n",
            "\n",
            "                                        dense_vector  \\\n",
            "0  [0.31560442051483995, 0.9741320292337782, 0.70...   \n",
            "1  [0.4428882542546977, 0.9739330601386337, 0.629...   \n",
            "\n",
            "                                  sparse_vector_data  \n",
            "0  {'indices': [1, 5, 10], 'values': [0.8, 0.7, 0...  \n",
            "1  {'indices': [2, 7, 12], 'values': [0.9, 0.6, 0...  \n"
          ]
        }
      ],
      "source": [
        "# 2. Data Preparation\n",
        "# Synthetic product data\n",
        "data = [\n",
        "    {\"id\": \"P001\", \"product_name\": \"Smartwatch Series X\", \"category\": \"electronics\", \"brand\": \"AlphaTech\", \"price\": 299.99, \"rating\": 4.5, \"in_stock\": True, \"release_year\": 2023, \"keywords_indices\": [1, 5, 10], \"keywords_values\": [0.8, 0.7, 0.9]},\n",
        "    {\"id\": \"P002\", \"product_name\": \"Organic Green Tea\", \"category\": \"groceries\", \"brand\": \"NaturePure\", \"price\": 15.50, \"rating\": 4.8, \"in_stock\": True, \"release_year\": 2022, \"keywords_indices\": [2, 7, 12], \"keywords_values\": [0.9, 0.6, 0.8]},\n",
        "    {\"id\": \"P003\", \"product_name\": \"Running Shoes Pro\", \"category\": \"apparel\", \"brand\": \"FitStride\", \"price\": 120.00, \"rating\": 4.3, \"in_stock\": False, \"release_year\": 2023, \"keywords_indices\": [3, 6, 11], \"keywords_values\": [0.7, 0.8, 0.7]},\n",
        "    {\"id\": \"P004\", \"product_name\": \"Wireless Headphones\", \"category\": \"electronics\", \"brand\": \"AudioMax\", \"price\": 199.50, \"rating\": 4.7, \"in_stock\": True, \"release_year\": 2022, \"keywords_indices\": [1, 8, 15], \"keywords_values\": [0.9, 0.9, 0.6]},\n",
        "    {\"id\": \"P005\", \"product_name\": \"Advanced Yoga Mat\", \"category\": \"sports\", \"brand\": \"ZenFlow\", \"price\": 45.00, \"rating\": 4.9, \"in_stock\": True, \"release_year\": 2024, \"keywords_indices\": [4, 9, 13], \"keywords_values\": [0.6, 0.8, 0.9]},\n",
        "    {\"id\": \"P006\", \"product_name\": \"Smartphone Model Z\", \"category\": \"electronics\", \"brand\": \"AlphaTech\", \"price\": 799.00, \"rating\": 4.2, \"in_stock\": True, \"release_year\": 2023, \"keywords_indices\": [1, 5, 16], \"keywords_values\": [0.8, 0.8, 0.7]},\n",
        "]\n",
        "df = pd.DataFrame(data)\n",
        "\n",
        "# Generate mock dense embeddings (e.g., 128 dimensions)\n",
        "vector_dim = 128\n",
        "df['dense_vector'] = [np.random.rand(vector_dim).tolist() for _ in range(len(df))]\n",
        "\n",
        "# Prepare sparse vectors from keywords_indices and keywords_values\n",
        "df['sparse_vector_data'] = df.apply(lambda row: {\"indices\": row['keywords_indices'], \"values\": row['keywords_values']}, axis=1)\n",
        "\n",
        "print(f\"Prepared {len(df)} items with mock dense and sparse embeddings.\")\n",
        "print(df[['id', 'product_name', 'dense_vector', 'sparse_vector_data']].head(2))"
      ]
    },
    {
      "cell_type": "code",
      "execution_count": 9,
      "metadata": {},
      "outputs": [
        {
          "name": "stdout",
          "output_type": "stream",
          "text": [
            "<bound method IndexList.names of [\n",
            "    {\n",
            "        \"name\": \"hybrid-furniture-search\",\n",
            "        \"metric\": \"dotproduct\",\n",
            "        \"host\": \"hybrid-furniture-search-24ytqix.svc.aped-4627-b74a.pinecone.io\",\n",
            "        \"spec\": {\n",
            "            \"serverless\": {\n",
            "                \"cloud\": \"aws\",\n",
            "                \"region\": \"us-east-1\"\n",
            "            }\n",
            "        },\n",
            "        \"status\": {\n",
            "            \"ready\": true,\n",
            "            \"state\": \"Ready\"\n",
            "        },\n",
            "        \"vector_type\": \"dense\",\n",
            "        \"dimension\": 512,\n",
            "        \"deletion_protection\": \"disabled\",\n",
            "        \"tags\": null\n",
            "    }\n",
            "]>\n",
            "Creating new serverless index: product-catalog-serverless-demo\n",
            "{'dimension': 128,\n",
            " 'index_fullness': 0.0,\n",
            " 'metric': 'cosine',\n",
            " 'namespaces': {},\n",
            " 'total_vector_count': 0,\n",
            " 'vector_type': 'dense'}\n"
          ]
        }
      ],
      "source": [
        "# 3. Index Creation\n",
        "# We'll use a serverless index for this main demo.\n",
        "# For sparse-dense queries, 'dotproduct' is required if doing direct hybrid query on a single index (typically pod-based).\n",
        "# Serverless sparse-dense often involves separate sparse and dense indexes.\n",
        "index_name_serverless = \"product-catalog-serverless-demo\"\n",
        "cloud_provider = \"aws\"\n",
        "region = \"us-east-1\" # choose a region\n",
        "print(pc.list_indexes().names)\n",
        "if index_name_serverless not in pc.list_indexes():\n",
        "    print(f\"Creating new serverless index: {index_name_serverless}\")\n",
        "    pc.create_index(\n",
        "        name=index_name_serverless,\n",
        "        dimension=vector_dim, # For dense vectors\n",
        "        metric=\"cosine\", # Common for dense vectors\n",
        "        spec=ServerlessSpec(\n",
        "            cloud=cloud_provider,\n",
        "            region=region\n",
        "        )\n",
        "    )\n",
        "    # Wait for index to be ready\n",
        "    while not pc.describe_index(index_name_serverless).status['ready']:\n",
        "        print(f\"Waiting for serverless index '{index_name_serverless}' to be ready...\")\n",
        "        time.sleep(5)\n",
        "else:\n",
        "    print(f\"Serverless index '{index_name_serverless}' already exists.\")\n",
        "\n",
        "index = pc.Index(index_name_serverless)\n",
        "print(index.describe_index_stats())"
      ]
    },
    {
      "cell_type": "markdown",
      "metadata": {},
      "source": [
        "## 4. Upserting Data with Metadata (and Conceptual Sparse Vectors)\n",
        "#\n",
        "Pinecone allows arbitrary JSON metadata.\n",
        "For sparse-dense, you'd include `sparse_values` alongside `values` when upserting to a compatible index.\n",
        "Our serverless index above is primarily for dense vectors; we'll show how the data *would* be structured."
      ]
    },
    {
      "cell_type": "code",
      "execution_count": 10,
      "metadata": {},
      "outputs": [
        {
          "name": "stdout",
          "output_type": "stream",
          "text": [
            "Upserted batch 1 to 'product-catalog-serverless-demo'\n",
            "Waiting for vectors to be indexed...\n",
            "{'dimension': 128,\n",
            " 'index_fullness': 0.0,\n",
            " 'metric': 'cosine',\n",
            " 'namespaces': {'': {'vector_count': 6}},\n",
            " 'total_vector_count': 6,\n",
            " 'vector_type': 'dense'}\n"
          ]
        }
      ],
      "source": [
        "vectors_to_upsert = []\n",
        "for _, row in df.iterrows():\n",
        "    metadata = {\n",
        "        \"product_name\": row[\"product_name\"],\n",
        "        \"category\": row[\"category\"],\n",
        "        \"brand\": row[\"brand\"],\n",
        "        \"price\": float(row[\"price\"]),\n",
        "        \"rating\": float(row[\"rating\"]),\n",
        "        \"in_stock\": bool(row[\"in_stock\"]),\n",
        "        \"release_year\": int(row[\"release_year\"])\n",
        "        # Note: For a true sparse-dense index, the sparse data isn't typically in metadata\n",
        "        # but passed directly as `sparse_values` in the upsert operation.\n",
        "    }\n",
        "    # For a dense-only index (like our serverless example here):\n",
        "    vectors_to_upsert.append({\n",
        "        \"id\": row[\"id\"],\n",
        "        \"values\": row[\"dense_vector\"],\n",
        "        \"metadata\": metadata\n",
        "    })\n",
        "    # If this were a pod-based index supporting sparse-dense vectors directly:\n",
        "    # vectors_to_upsert_hybrid.append({\n",
        "    #     \"id\": row[\"id\"],\n",
        "    #     \"values\": row[\"dense_vector\"],\n",
        "    #     \"sparse_values\": row[\"sparse_vector_data\"], # Correct field name is sparse_values\n",
        "    #     \"metadata\": metadata\n",
        "    # })\n",
        "\n",
        "\n",
        "# Upsert to our serverless (dense) index\n",
        "batch_size = 100\n",
        "for i in range(0, len(vectors_to_upsert), batch_size):\n",
        "    batch = vectors_to_upsert[i:i+batch_size]\n",
        "    index.upsert(vectors=batch)\n",
        "    print(f\"Upserted batch {i//batch_size + 1} to '{index_name_serverless}'\")\n",
        "\n",
        "print(\"Waiting for vectors to be indexed...\")\n",
        "time.sleep(10)\n",
        "print(index.describe_index_stats())"
      ]
    },
    {
      "cell_type": "markdown",
      "metadata": {},
      "source": [
        "### Serverless Metadata Considerations (Important Note)\n",
        "#\n",
        "As discussed in our main guide (\"*Important Note on Serverless Metadata*\"), Pinecone serverless indexes have specific behaviors regarding metadata:\n",
        "1.  They **do not use** the `metadata_config` parameter (which pod-based indexes can use for selective indexing of metadata fields).\n",
        "2.  **Large string fields in metadata that are not explicitly whitelisted by Pinecone as filterable might not be usable in filters, or filtering on them could be slow.** This is a crucial consideration if your application relies on filtering over extensive textual metadata. Always test with representative data.\n",
        "#\n",
        "For this demo, our metadata fields are small and common types, generally not an issue."
      ]
    },
    {
      "cell_type": "markdown",
      "metadata": {},
      "source": [
        "## 5. Metadata Filtering Examples (on Dense Index)\n",
        "#\n",
        "We will now perform vector searches combined with various metadata filters on our serverless (dense) index.\n",
        "We'll use a random query vector for demonstration."
      ]
    },
    {
      "cell_type": "code",
      "execution_count": 11,
      "metadata": {},
      "outputs": [],
      "source": [
        "query_dense_vector = np.random.rand(vector_dim).tolist()\n",
        "TOP_K = 3 # Reduced for brevity"
      ]
    },
    {
      "cell_type": "code",
      "execution_count": 12,
      "metadata": {},
      "outputs": [
        {
          "name": "stdout",
          "output_type": "stream",
          "text": [
            "\n",
            "--- Filtering for 'electronics' category ---\n",
            "ID: P006, Score: 0.7832, Metadata: Smartphone Model Z, Cat: electronics\n",
            "ID: P001, Score: 0.7711, Metadata: Smartwatch Series X, Cat: electronics\n",
            "ID: P004, Score: 0.7361, Metadata: Wireless Headphones, Cat: electronics\n",
            "\n",
            "--- Filtering for price less than $100 (Example 5.2) ---\n",
            "ID: P002, Score: 0.7636, Metadata: Organic Green Tea, Price: 15.5\n",
            "ID: P005, Score: 0.7276, Metadata: Advanced Yoga Mat, Price: 45.0\n"
          ]
        }
      ],
      "source": [
        "# ### Example 5.1: Exact Match on `category`\n",
        "print(\"\\n--- Filtering for 'electronics' category ---\")\n",
        "results = index.query(\n",
        "    vector=query_dense_vector,\n",
        "    top_k=TOP_K,\n",
        "    filter={\"category\": {\"$eq\": \"electronics\"}},\n",
        "    include_metadata=True\n",
        ")\n",
        "for match in results['matches']:\n",
        "    print(f\"ID: {match['id']}, Score: {match['score']:.4f}, Metadata: {match['metadata']['product_name']}, Cat: {match['metadata']['category']}\")\n",
        "\n",
        "# ... (Keep other existing filter examples: 5.2 Range Query, 5.3 Boolean Query, 5.4 Combined Filters, 5.5 List Membership, 5.6 OR logic) ...\n",
        "# (Ensure they use query_dense_vector and the serverless index `index`)\n",
        "# Example:\n",
        "print(\"\\n--- Filtering for price less than $100 (Example 5.2) ---\")\n",
        "results = index.query(\n",
        "    vector=query_dense_vector,\n",
        "    top_k=TOP_K,\n",
        "    filter={\"price\": {\"$lt\": 100.00}},\n",
        "    include_metadata=True\n",
        ")\n",
        "for match in results['matches']:\n",
        "    print(f\"ID: {match['id']}, Score: {match['score']:.4f}, Metadata: {match['metadata']['product_name']}, Price: {match['metadata']['price']}\")"
      ]
    },
    {
      "cell_type": "markdown",
      "metadata": {},
      "source": [
        "## 6. Conceptual Demonstration: Sparse-Dense Hybrid Search\n",
        "#\n",
        "As mentioned in our article, Pinecone supports sparse-dense hybrid search, combining semantic (dense) and keyword (sparse) relevance. This typically requires an index configured for `dotproduct` and often works most directly with pod-based indexes for single-query hybrid weighting, or separate sparse/dense indexes for serverless.\n",
        "#\n",
        "Let's illustrate the components of a hybrid query."
      ]
    },
    {
      "cell_type": "code",
      "execution_count": 13,
      "metadata": {},
      "outputs": [
        {
          "name": "stdout",
          "output_type": "stream",
          "text": [
            "Dense query component (sample): [0.40056334342792965, 0.584911631501071, 0.43694316355124185, 0.6782474814390708, 0.19054042958830109]\n",
            "Sparse query component: {'indices': [1, 10, 15], 'values': [0.9, 0.8, 0.7]}\n"
          ]
        }
      ],
      "source": [
        "# Mock query components for hybrid search\n",
        "query_dense_hybrid = np.random.rand(vector_dim).tolist()\n",
        "query_sparse_hybrid = {\"indices\": [1, 10, 15], \"values\": [0.9, 0.8, 0.7]} # Example query sparse vector\n",
        "\n",
        "print(f\"Dense query component (sample): {query_dense_hybrid[:5]}\")\n",
        "print(f\"Sparse query component: {query_sparse_hybrid}\")"
      ]
    },
    {
      "cell_type": "markdown",
      "metadata": {},
      "source": [
        "**Querying a Hybrid Index (Conceptual for Pod-Based with `dotproduct`):**\n",
        " If you had a pod-based index `hybrid_index` supporting sparse-dense vectors directly:\n",
        "```python\n",
        " hybrid_index = pc.Index(\"my-hybrid-pod-index\") # Assuming it exists and uses dotproduct\n",
        " response_hybrid = hybrid_index.query(\n",
        "         vector=query_dense_hybrid,\n",
        "         sparse_vector=query_sparse_hybrid,\n",
        "         top_k=TOP_K,\n",
        "         include_metadata=True)\n",
        "        # Pinecone combines scores. For explicit weighting (alpha), you'd typically apply it client-side\n",
        "# #     # to dense and sparse query vectors before sending, or manage results from separate queries.\n",
        " for match in response_hybrid['matches']:\n",
        "    print(f\"Hybrid Match ID: {match['id']}, Score: {match['score']:.4f}, Metadata: {match['metadata']}\")\n",
        "```\n",
        "\n",
        "**Hybrid Search with Serverless (Often Separate Queries):**\n",
        "For serverless, as our article notes, hybrid search often involves querying a dense index and a sparse index separately, then combining results in your application. This gives more control over the `alpha` weighting.\n",
        "#\n",
        "```python\n",
        "# Assuming `dense_index` (like our `index` variable) and a separate `sparse_index`\n",
        " dense_results = dense_index.query(vector=query_dense_hybrid, top_k=10, include_metadata=True)\n",
        " sparse_results = sparse_index.query(sparse_vector=query_sparse_hybrid, top_k=10, include_metadata=True)\n",
        "\n",
        "# --- Application-level result fusion would happen here (e.g., RRF or weighted sum) ---\n",
        " alpha = 0.75 # Example weight for dense\n",
        " final_results = combine_sparse_dense_results(dense_results, sparse_results, alpha)\n",
        "```\n",
        "This conceptual section highlights the data and query structures involved. For full implementation details, refer to the latest Pinecone documentation on hybrid search for your specific index type."
      ]
    },
    {
      "cell_type": "markdown",
      "metadata": {},
      "source": [
        "## 7. Namespaces\n",
        "Namespaces act as a coarse-grained filter, partitioning your index.\n",
        "(This section can remain largely the same as before, using the `index` (serverless dense index) for demo)"
      ]
    },
    {
      "cell_type": "code",
      "execution_count": 15,
      "metadata": {},
      "outputs": [
        {
          "name": "stdout",
          "output_type": "stream",
          "text": [
            "Stats after upserting to namespace 'user_specific_data': {'dimension': 128,\n",
            " 'index_fullness': 0.0,\n",
            " 'metric': 'cosine',\n",
            " 'namespaces': {'': {'vector_count': 6},\n",
            "                'user_specific_data': {'vector_count': 1}},\n",
            " 'total_vector_count': 7,\n",
            " 'vector_type': 'dense'}\n",
            "\n",
            "--- Querying within namespace 'user_specific_data' for 'luxury' ---\n",
            "ID: P_NS001, Score: 0.7512, Metadata: Special Edition Watch\n"
          ]
        }
      ],
      "source": [
        "namespace_name = \"user_specific_data\"\n",
        "index.upsert(\n",
        "    vectors=[{\n",
        "        \"id\": \"P_NS001\",\n",
        "        \"values\": np.random.rand(vector_dim).tolist(), # Dense vector\n",
        "        \"metadata\": {\"product_name\": \"Special Edition Watch\", \"category\": \"luxury\", \"price\": 1500.00}\n",
        "    }],\n",
        "    namespace=namespace_name\n",
        ")\n",
        "time.sleep(5)\n",
        "print(f\"Stats after upserting to namespace '{namespace_name}': {index.describe_index_stats()}\")\n",
        "\n",
        "# Querying within the namespace\n",
        "print(f\"\\n--- Querying within namespace '{namespace_name}' for 'luxury' ---\")\n",
        "results_ns = index.query(\n",
        "    vector=query_dense_vector, # Querying with a dense vector\n",
        "    top_k=TOP_K,\n",
        "    filter={\"category\": {\"$eq\": \"luxury\"}},\n",
        "    namespace=namespace_name,\n",
        "    include_metadata=True\n",
        ")\n",
        "for match in results_ns['matches']:\n",
        "    print(f\"ID: {match['id']}, Score: {match['score']:.4f}, Metadata: {match['metadata']['product_name']}\")"
      ]
    },
    {
      "cell_type": "markdown",
      "metadata": {},
      "source": [
        "## 8. Discussion\n",
        "#\n",
        "- **Ease of Use & Schema Flexibility:** Pinecone remains simple for basic dense vector search with schemaless JSON metadata.\n",
        "- **Hybrid Search:** Pinecone is evolving its hybrid search capabilities. The approach can differ between serverless and pod-based indexes, with serverless often favoring separate sparse and dense index queries for more flexible `alpha` blending.\n",
        "- **Serverless Considerations:** Be mindful of metadata limitations on serverless, especially for large, un-whitelisted string fields.\n",
        "- **Filter Expressiveness:** Good range of MongoDB-style operators for common use cases.\n",
        "#\n",
        "*Refer to our main guide for a detailed comparison of Pinecone's pros, cons, and suitability for different organization sizes.*"
      ]
    },
    {
      "cell_type": "code",
      "execution_count": 16,
      "metadata": {},
      "outputs": [
        {
          "name": "stdout",
          "output_type": "stream",
          "text": [
            "Index 'product-catalog-serverless-demo' was not deleted.\n"
          ]
        }
      ],
      "source": [
        "# 9. Cleanup\n",
        "user_confirmation = input(f\"Do you want to delete the serverless index '{index_name_serverless}'? (yes/no): \")\n",
        "if user_confirmation.lower() == 'yes':\n",
        "    if index_name_serverless in pc.list_indexes().names:\n",
        "        print(f\"Deleting index '{index_name_serverless}'...\")\n",
        "        pc.delete_index(index_name_serverless)\n",
        "        print(\"Index deleted.\")\n",
        "    else:\n",
        "        print(f\"Index '{index_name_serverless}' not found for deletion.\")\n",
        "else:\n",
        "    print(f\"Index '{index_name_serverless}' was not deleted.\")"
      ]
    },
    {
      "cell_type": "markdown",
      "metadata": {},
      "source": [
        "## Conclusion\n",
        "#\n",
        "This enhanced notebook demonstrated Pinecone's core metadata filtering and touched upon its hybrid search capabilities and serverless-specific considerations.\n",
        "Pinecone's managed nature makes it attractive, but understanding the nuances of different index types and features is key.\n",
        "#\n",
        "*Our comprehensive guide provides further insights into selecting the right vector database and optimizing your metadata filtering strategy.*"
      ]
    }
  ],
  "metadata": {
    "colab": {
      "provenance": []
    },
    "kernelspec": {
      "display_name": "Python 3",
      "name": "python3"
    },
    "language_info": {
      "codemirror_mode": {
        "name": "ipython",
        "version": 3
      },
      "file_extension": ".py",
      "mimetype": "text/x-python",
      "name": "python",
      "nbconvert_exporter": "python",
      "pygments_lexer": "ipython3",
      "version": "3.13.1"
    }
  },
  "nbformat": 4,
  "nbformat_minor": 5
}
