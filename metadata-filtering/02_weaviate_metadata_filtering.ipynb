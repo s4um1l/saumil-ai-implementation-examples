{
  "cells": [
    {
      "cell_type": "markdown",
      "metadata": {},
      "source": [
        "# Metadata Filtering in Vector Search: Weaviate Demo\n",
        "#\n",
        "This notebook demonstrates how to implement metadata filtering with Weaviate,\n",
        "building upon the concepts from the \"Metadata Filtering in Vector Search: A Comprehensive Guide for Engineering Leaders\".\n",
        "We will use the same synthetic product dataset to illustrate various filtering techniques\n",
        "and explore Weaviate's keyword search (BM25) capabilities alongside metadata filters.\n",
        "#\n",
        "**Key Concepts Covered:**\n",
        "- Defining a schema (Class) with properties.\n",
        "- Upserting data objects with vectors and metadata.\n",
        "- Filtering using the `with_where` filter.\n",
        "- Performing BM25 keyword searches and combining them with `where` filters.\n",
        "- Combining vector search (`with_near_vector`) with metadata filters.\n",
        "- Notes on advanced index tuning and performance optimizations in recent Weaviate versions.\n",
        "#\n",
        "*For a detailed discussion of Weaviate's features, including its GraphQL interface and hybrid search modules, please refer to our main guide.*"
      ]
    },
    {
      "cell_type": "code",
      "execution_count": 1,
      "metadata": {},
      "outputs": [],
      "source": [
        "# 1. Setup\n",
        "# !pip install weaviate-client numpy pandas # Ensure you have a recent version, e.g., 3.x or 4.x for Weaviate client\n",
        "                                          # Weaviate Client v4 (weaviate-client>=4.0.0) has a different API style.\n",
        "                                          # This notebook will use the v3 style (weaviate-client~=3.26) for broader compatibility\n",
        "                                          # with the article's original snippets. If using v4, adapt client calls.\n",
        "                                          # For v4: import weaviate.classes as wvc\n",
        "\n",
        "import weaviate\n",
        "import numpy as np\n",
        "import pandas as pd\n",
        "import json # For printing results nicely\n",
        "import time\n",
        "import uuid # For generating UUIDs if needed"
      ]
    },
    {
      "cell_type": "markdown",
      "metadata": {},
      "source": [
        "## IMPORTANT: Starting Weaviate\n",
        "#\n",
        "Before running this notebook, you need a Weaviate instance running. You can setup a free [Weaviate Cloud Cluster](https://weaviate.io/developers/weaviate/quickstart)\n",
        "The other way is to use Docker. We recommend version 1.25 or newer\n",
        "for the filter performance optimizations mentioned in our guide.\n",
        "#\n",
        "```bash\n",
        "docker run -d --name weaviate-demo-v125 \\\n",
        "    -p 8080:8080 \\\n",
        "    -p 50051:50051 \\\n",
        "    -e \"AUTHENTICATION_ANONYMOUS_ACCESS_ENABLED=true\" \\\n",
        "    -e \"PERSISTENCE_DATA_PATH=/var/lib/weaviate\" \\\n",
        "    -e \"DEFAULT_VECTORIZER_MODULE=none\" \\\n",
        "    -e \"ENABLE_MODULES=''\" \\\n",
        "    semitechnologies/weaviate:1.25.3\n",
        "```\n",
        "This command starts Weaviate `1.25.3` with anonymous access and no default vectorizer.\n",
        "If you have an existing Weaviate instance, ensure it's accessible and preferably >= v1.25."
      ]
    },
    {
      "cell_type": "code",
      "execution_count": 2,
      "metadata": {},
      "outputs": [
        {
          "name": "stdout",
          "output_type": "stream",
          "text": [
            "Weaviate client connected successfully to 09wgxvzmt5mub25le5yb5w.c0.us-west3.gcp.weaviate.cloud.\n",
            "Weaviate server version: 1.30.1\n"
          ]
        }
      ],
      "source": [
        "# Initialize Weaviate Client\n",
        "from weaviate.classes.init import Auth\n",
        "import os\n",
        "import getpass\n",
        "\n",
        "# Get credentials securely\n",
        "weaviate_url = os.environ.get(\"WEAVIATE_URL\")\n",
        "if not weaviate_url:\n",
        "    weaviate_url = input(\"Enter your Weaviate Cloud URL: \")\n",
        "    \n",
        "weaviate_api_key = os.environ.get(\"WEAVIATE_API_KEY\")\n",
        "if not weaviate_api_key:\n",
        "    weaviate_api_key = getpass.getpass(\"Enter your Weaviate API key: \")\n",
        "\n",
        "try:\n",
        "    client = weaviate.connect_to_weaviate_cloud(\n",
        "        cluster_url=weaviate_url,\n",
        "        auth_credentials=Auth.api_key(weaviate_api_key),\n",
        "    )\n",
        "\n",
        "    if client.is_ready():\n",
        "        print(f\"Weaviate client connected successfully to {weaviate_url}.\")\n",
        "        server_version = client.get_meta()['version']\n",
        "        print(f\"Weaviate server version: {server_version}\")\n",
        "        if server_version < \"1.25\":\n",
        "            print(f\"WARNING: Your Weaviate version {server_version} is older than 1.25. Consider upgrading for optimal filter performance as discussed in our guide.\")\n",
        "    else:\n",
        "        print(f\"Weaviate client not ready. Ensure Weaviate is running at {weaviate_url}.\")\n",
        "except Exception as e:\n",
        "    print(f\"Error connecting to Weaviate: {e}\")\n",
        "    print(f\"Please ensure Weaviate is running and credentials are correct\")"
      ]
    },
    {
      "cell_type": "code",
      "execution_count": 3,
      "metadata": {},
      "outputs": [
        {
          "data": {
            "text/html": [
              "<div>\n",
              "<style scoped>\n",
              "    .dataframe tbody tr th:only-of-type {\n",
              "        vertical-align: middle;\n",
              "    }\n",
              "\n",
              "    .dataframe tbody tr th {\n",
              "        vertical-align: top;\n",
              "    }\n",
              "\n",
              "    .dataframe thead th {\n",
              "        text-align: right;\n",
              "    }\n",
              "</style>\n",
              "<table border=\"1\" class=\"dataframe\">\n",
              "  <thead>\n",
              "    <tr style=\"text-align: right;\">\n",
              "      <th></th>\n",
              "      <th>id</th>\n",
              "      <th>product_name</th>\n",
              "      <th>description</th>\n",
              "      <th>category</th>\n",
              "      <th>brand</th>\n",
              "      <th>price</th>\n",
              "      <th>rating</th>\n",
              "      <th>in_stock</th>\n",
              "      <th>release_year</th>\n",
              "      <th>vector</th>\n",
              "    </tr>\n",
              "  </thead>\n",
              "  <tbody>\n",
              "    <tr>\n",
              "      <th>0</th>\n",
              "      <td>P001</td>\n",
              "      <td>Smartwatch Series X</td>\n",
              "      <td>Latest smartwatch with advanced health trackin...</td>\n",
              "      <td>electronics</td>\n",
              "      <td>AlphaTech</td>\n",
              "      <td>299.99</td>\n",
              "      <td>4.5</td>\n",
              "      <td>True</td>\n",
              "      <td>2023</td>\n",
              "      <td>[0.15409087681554223, 0.04027049403866623, 0.0...</td>\n",
              "    </tr>\n",
              "    <tr>\n",
              "      <th>1</th>\n",
              "      <td>P002</td>\n",
              "      <td>Organic Green Tea</td>\n",
              "      <td>Premium organic green tea, rich in antioxidant...</td>\n",
              "      <td>groceries</td>\n",
              "      <td>NaturePure</td>\n",
              "      <td>15.50</td>\n",
              "      <td>4.8</td>\n",
              "      <td>True</td>\n",
              "      <td>2022</td>\n",
              "      <td>[0.9784289190080834, 0.6745252668040118, 0.704...</td>\n",
              "    </tr>\n",
              "  </tbody>\n",
              "</table>\n",
              "</div>"
            ],
            "text/plain": [
              "     id         product_name  \\\n",
              "0  P001  Smartwatch Series X   \n",
              "1  P002    Organic Green Tea   \n",
              "\n",
              "                                         description     category       brand  \\\n",
              "0  Latest smartwatch with advanced health trackin...  electronics   AlphaTech   \n",
              "1  Premium organic green tea, rich in antioxidant...    groceries  NaturePure   \n",
              "\n",
              "    price  rating  in_stock  release_year  \\\n",
              "0  299.99     4.5      True          2023   \n",
              "1   15.50     4.8      True          2022   \n",
              "\n",
              "                                              vector  \n",
              "0  [0.15409087681554223, 0.04027049403866623, 0.0...  \n",
              "1  [0.9784289190080834, 0.6745252668040118, 0.704...  "
            ]
          },
          "execution_count": 3,
          "metadata": {},
          "output_type": "execute_result"
        }
      ],
      "source": [
        "# 2. Data Preparation\n",
        "# Using the same synthetic product data\n",
        "data = [\n",
        "    {\"id\": \"P001\", \"product_name\": \"Smartwatch Series X\", \"description\": \"Latest smartwatch with advanced health tracking and long battery life.\", \"category\": \"electronics\", \"brand\": \"AlphaTech\", \"price\": 299.99, \"rating\": 4.5, \"in_stock\": True, \"release_year\": 2023},\n",
        "    {\"id\": \"P002\", \"product_name\": \"Organic Green Tea\", \"description\": \"Premium organic green tea, rich in antioxidants. Soothing and refreshing.\", \"category\": \"groceries\", \"brand\": \"NaturePure\", \"price\": 15.50, \"rating\": 4.8, \"in_stock\": True, \"release_year\": 2022},\n",
        "    {\"id\": \"P003\", \"product_name\": \"Running Shoes Pro\", \"description\": \"Professional running shoes for marathon runners. Excellent cushioning.\", \"category\": \"apparel\", \"brand\": \"FitStride\", \"price\": 120.00, \"rating\": 4.3, \"in_stock\": False, \"release_year\": 2023},\n",
        "    {\"id\": \"P004\", \"product_name\": \"Wireless Noise-Cancelling Headphones\", \"description\": \"Immersive sound experience with these wireless noise-cancelling headphones.\", \"category\": \"electronics\", \"brand\": \"AudioMax\", \"price\": 199.50, \"rating\": 4.7, \"in_stock\": True, \"release_year\": 2022},\n",
        "    {\"id\": \"P005\", \"product_name\": \"Advanced Yoga Mat\", \"description\": \"Non-slip advanced yoga mat for all types of yoga practice. Eco-friendly.\", \"category\": \"sports\", \"brand\": \"ZenFlow\", \"price\": 45.00, \"rating\": 4.9, \"in_stock\": True, \"release_year\": 2024},\n",
        "    {\"id\": \"P006\", \"product_name\": \"Smartphone Model Z\", \"description\": \"Flagship smartphone with stunning display and pro-grade camera system.\", \"category\": \"electronics\", \"brand\": \"AlphaTech\", \"price\": 799.00, \"rating\": 4.2, \"in_stock\": True, \"release_year\": 2023},\n",
        "]\n",
        "df = pd.DataFrame(data)\n",
        "\n",
        "vector_dim = 128\n",
        "df['vector'] = [np.random.rand(vector_dim).tolist() for _ in range(len(df))]\n",
        "df.head(2)"
      ]
    },
    {
      "cell_type": "code",
      "execution_count": 8,
      "metadata": {},
      "outputs": [
        {
          "name": "stderr",
          "output_type": "stream",
          "text": [
            "/Users/saumilsrivastava/Documents/development/personal_learning/saumil-ai-implementation-examples/metadata-filtering/.venv/lib/python3.13/site-packages/weaviate/collections/classes/config.py:1950: PydanticDeprecatedSince211: Accessing the 'model_fields' attribute on the instance is deprecated. Instead, you should access this attribute from the model class. Deprecated in Pydantic V2.11 to be removed in V3.0.\n",
            "  for cls_field in self.model_fields:\n"
          ]
        },
        {
          "name": "stdout",
          "output_type": "stream",
          "text": [
            "Collection 'ProductDemoWeaviate' created successfully.\n"
          ]
        }
      ],
      "source": [
        "# 3. Schema Definition (Collection Creation)\n",
        "import weaviate.classes as wvc\n",
        "from weaviate.classes.config import Property, DataType, Configure\n",
        "\n",
        "class_name = \"ProductDemoWeaviate\"\n",
        "\n",
        "# Delete collection if it exists from a previous run\n",
        "if client.collections.exists(class_name):\n",
        "    print(f\"Collection '{class_name}' already exists. Deleting it.\")\n",
        "    client.collections.delete(class_name)\n",
        "    time.sleep(1)\n",
        "\n",
        "# Create collection with properties\n",
        "collection = client.collections.create(\n",
        "    name=class_name,\n",
        "    description=\"A collection of products with metadata for demo\",\n",
        "    vectorizer_config=wvc.config.Configure.Vectorizer.none(),\n",
        "    properties=[\n",
        "        wvc.config.Property(name=\"product_id_prop\", data_type=wvc.config.DataType.TEXT),\n",
        "        wvc.config.Property(name=\"product_name\", data_type=wvc.config.DataType.TEXT, tokenization=wvc.config.Tokenization.WORD),\n",
        "        wvc.config.Property(name=\"description\", data_type=wvc.config.DataType.TEXT, tokenization=wvc.config.Tokenization.WORD),\n",
        "        wvc.config.Property(name=\"category\", data_type=wvc.config.DataType.TEXT),\n",
        "        wvc.config.Property(name=\"brand\", data_type=wvc.config.DataType.TEXT),\n",
        "        wvc.config.Property(name=\"price\", data_type=wvc.config.DataType.NUMBER),\n",
        "        wvc.config.Property(name=\"rating\", data_type=wvc.config.DataType.NUMBER),\n",
        "        wvc.config.Property(name=\"in_stock\", data_type=wvc.config.DataType.BOOL),\n",
        "        wvc.config.Property(name=\"release_year\", data_type=wvc.config.DataType.INT)\n",
        "    ],\n",
        "    vector_index_config=wvc.config.Configure.VectorIndex.hnsw(distance_metric=wvc.config.VectorDistances.COSINE)\n",
        ")\n",
        "print(f\"Collection '{class_name}' created successfully.\")"
      ]
    },
    {
      "cell_type": "markdown",
      "metadata": {},
      "source": [
        "### Advanced Index Tuning & Performance (Note)\n",
        "#\n",
        "Our main guide discusses Weaviate's capabilities for tuning its inverted index and BM25 search, including:\n",
        "- **`invertedIndexConfig`**: For managing stopwords (language presets like \"en\", custom additions/removals).\n",
        "- **BM25 Parameters**: `k1` (term frequency saturation, default: 1.2) and `b` (document length normalization, default: 0.75) can be customized in the class schema to fine-tune keyword search relevance.\n",
        "#\n",
        "```json\n",
        "// Example snippet for class_obj to include invertedIndexConfig\n",
        "\"invertedIndexConfig\": {\n",
        "  \"stopwords\": {\n",
        "    \"preset\": \"en\",\n",
        "    \"additions\": [\"extra\", \"words\"],\n",
        "    \"removals\": [\"a\", \"the\"]\n",
        "  },\n",
        "  \"bm25\": {\n",
        "    \"k1\": 1.25,\n",
        "    \"b\": 0.8\n",
        "  }\n",
        "}\n",
        "```\n",
        "Additionally, as highlighted in the article, **Weaviate versions 1.25 and newer offer significant filter performance improvements** due to inverted-index acceleration. It's highly recommended to use these versions for production workloads involving heavy filtering."
      ]
    },
    {
      "cell_type": "code",
      "execution_count": 10,
      "metadata": {},
      "outputs": [
        {
          "name": "stdout",
          "output_type": "stream",
          "text": [
            "Upserting data objects...\n",
            "Successfully upserted 6 data objects.\n"
          ]
        }
      ],
      "source": [
        "# 4. Upserting Data with Metadata\n",
        "print(\"Upserting data objects...\")\n",
        "\n",
        "# Create batch object (v4 client style)\n",
        "with client.batch.dynamic() as batch:\n",
        "    # Configure batch settings\n",
        "    batch.batch_size = 100\n",
        "    \n",
        "    # Add objects to batch\n",
        "    for _, row in df.iterrows():\n",
        "        properties = {\n",
        "            \"product_id_prop\": row[\"id\"],\n",
        "            \"product_name\": row[\"product_name\"],\n",
        "            \"description\": row[\"description\"],\n",
        "            \"category\": row[\"category\"],\n",
        "            \"brand\": row[\"brand\"],\n",
        "            \"price\": float(row[\"price\"]),\n",
        "            \"rating\": float(row[\"rating\"]),\n",
        "            \"in_stock\": bool(row[\"in_stock\"]),\n",
        "            \"release_year\": int(row[\"release_year\"])\n",
        "        }\n",
        "        \n",
        "        # Add object to batch with vector\n",
        "        batch.add_object(\n",
        "            collection=class_name,\n",
        "            properties=properties,\n",
        "            vector=row[\"vector\"]\n",
        "        )\n",
        "        # If you need deterministic UUIDs:\n",
        "        # uuid = weaviate.util.generate_uuid5(row[\"id\"], class_name)\n",
        "        # batch.add_object(..., uuid=uuid)\n",
        "\n",
        "print(f\"Successfully upserted {len(df)} data objects.\")\n",
        "time.sleep(2) # Give Weaviate a moment"
      ]
    },
    {
      "cell_type": "markdown",
      "metadata": {},
      "source": [
        "## 5. Metadata Filtering Examples with Vector Search\n",
        "#\n",
        "We will perform vector searches (`with_near_vector`) combined with `with_where` filters."
      ]
    },
    {
      "cell_type": "code",
      "execution_count": 41,
      "metadata": {},
      "outputs": [],
      "source": [
        "# Initialize your query_vector and TOP_K variables as before\n",
        "query_vector = np.random.rand(vector_dim).tolist()\n",
        "TOP_K = 3\n",
        "\n",
        "def print_weaviate_results(result, query_desc=\"\"):\n",
        "    print(f\"\\n--- {query_desc} ---\")\n",
        "    if not result.objects:\n",
        "        print(\"No results found.\")\n",
        "        return\n",
        "    for obj in result.objects:\n",
        "        print(f\"  Name: {obj.properties.get('product_name', 'N/A')}, Category: {obj.properties.get('category', 'N/A')}, Price: {obj.properties.get('price', 'N/A')}\")\n",
        "        if hasattr(obj, 'metadata'):\n",
        "            if hasattr(obj.metadata, 'score') and obj.metadata.score is not None:\n",
        "                print(f\"    Score/Distance: {obj.metadata.score}\")\n",
        "            else:\n",
        "                print(f\"    Score/Distance: {obj.metadata.distance}\")\n"
      ]
    },
    {
      "cell_type": "code",
      "execution_count": 42,
      "metadata": {},
      "outputs": [
        {
          "name": "stdout",
          "output_type": "stream",
          "text": [
            "\n",
            "--- Vector Search: Filtering for 'electronics' category ---\n",
            "  Name: Smartphone Model Z, Category: electronics, Price: 799.0\n",
            "    Score/Distance: 0.2378298044204712\n",
            "  Name: Wireless Noise-Cancelling Headphones, Category: electronics, Price: 199.5\n",
            "    Score/Distance: 0.2784872055053711\n",
            "  Name: Smartwatch Series X, Category: electronics, Price: 299.99\n",
            "    Score/Distance: 0.28156906366348267\n",
            "\n",
            "--- Vector Search: Filtering for price less than $100 ---\n",
            "  Name: Organic Green Tea, Category: groceries, Price: 15.5\n",
            "    Score/Distance: 0.242254376411438\n",
            "  Name: Advanced Yoga Mat, Category: sports, Price: 45.0\n",
            "    Score/Distance: 0.26119357347488403\n"
          ]
        }
      ],
      "source": [
        "# ### Example 5.1: Exact Match on `category` with Vector Search\n",
        "from weaviate.classes.query import Filter\n",
        "from weaviate.classes.query import MetadataQuery\n",
        "\n",
        "# Get the collection\n",
        "collection = client.collections.get(class_name)\n",
        "\n",
        "# Example 5.1: Exact Match on `category` with Vector Search\n",
        "category_filter = Filter.by_property(\"category\").equal(\"electronics\")\n",
        "\n",
        "result_cat_vec = collection.query.near_vector(near_vector=query_vector,limit=TOP_K,filters=category_filter,return_metadata=MetadataQuery(distance=True))\n",
        "\n",
        "print_weaviate_results(result_cat_vec, \"Vector Search: Filtering for 'electronics' category\")\n",
        "\n",
        "# Example 5.2: Range Query on `price` with Vector Search\n",
        "price_filter = Filter.by_property(\"price\").less_than(100.00)\n",
        "\n",
        "result_price_lt_vec = collection.query.near_vector(near_vector=query_vector,limit=TOP_K,filters=price_filter,return_metadata=MetadataQuery(distance=True))\n",
        "\n",
        "print_weaviate_results(result_price_lt_vec, \"Vector Search: Filtering for price less than $100\")\n"
      ]
    },
    {
      "cell_type": "markdown",
      "metadata": {},
      "source": [
        "## 6. BM25 Keyword Search with Metadata Filtering\n",
        "#\n",
        "As discussed in our main article, Weaviate supports BM25 keyword search, which can be combined with metadata filters.\n",
        "This is powerful for hybrid search scenarios."
      ]
    },
    {
      "cell_type": "code",
      "execution_count": 43,
      "metadata": {},
      "outputs": [
        {
          "name": "stdout",
          "output_type": "stream",
          "text": [
            "\n",
            "--- BM25 Search for 'smartwatch' ---\n",
            "  Name: Smartwatch Series X, Category: electronics, Price: 299.99\n",
            "    Score/Distance: 1.471821904182434\n"
          ]
        }
      ],
      "source": [
        "# ### Example 6.1: BM25 Search for \"smartwatch\" in 'product_name' or 'description'\n",
        "bm25_query = \"smartwatch\"\n",
        "result_bm25_only = collection.query.bm25(query=bm25_query, query_properties=[\"product_name\", \"description\"],limit=TOP_K,return_metadata=MetadataQuery(score=True))\n",
        "\n",
        "print_weaviate_results(result_bm25_only, f\"BM25 Search for '{bm25_query}'\")"
      ]
    },
    {
      "cell_type": "code",
      "execution_count": 44,
      "metadata": {},
      "outputs": [
        {
          "name": "stdout",
          "output_type": "stream",
          "text": [
            "\n",
            "--- BM25 Search for 'headphones' AND category 'electronics' ---\n",
            "  Name: Wireless Noise-Cancelling Headphones, Category: electronics, Price: 199.5\n",
            "    Score/Distance: 1.4359540939331055\n"
          ]
        }
      ],
      "source": [
        "# ### Example 6.2: BM25 Search for \"headphones\" COMBINED with metadata filter (category: \"electronics\")\n",
        "bm25_query_headphones = \"headphones\"\n",
        "category_filter = Filter.by_property(\"category\").equal(\"electronics\")\n",
        "\n",
        "result_bm25_filtered = collection.query.bm25(\n",
        "    query=bm25_query_headphones, \n",
        "    query_properties=[\"product_name\", \"description\"],\n",
        "    limit=TOP_K,\n",
        "    filters=category_filter,\n",
        "    return_metadata=MetadataQuery(score=True)\n",
        ")\n",
        "\n",
        "print_weaviate_results(result_bm25_filtered, f\"BM25 Search for '{bm25_query_headphones}' AND category 'electronics'\")"
      ]
    },
    {
      "cell_type": "markdown",
      "metadata": {},
      "source": [
        "### Combining BM25, Vector Search, and Metadata Filters (Hybrid Search)\n",
        "Weaviate's `with_hybrid()` method (not shown in this basic demo for brevity, but available)\n",
        "allows combining keyword (BM25) and semantic (vector) search, along with `where` filters.\n",
        "This enables sophisticated hybrid search strategies, as detailed in our main guide.\n",
        "Example conceptual structure:\n",
        " ```python\n",
        " response = collection.query.hybrid(\n",
        "    query=\"food\",\n",
        "    vector=query_vector,\n",
        "    alpha=0.25,\n",
        "    limit=3,\n",
        ")\n",
        "```"
      ]
    },
    {
      "cell_type": "markdown",
      "metadata": {},
      "source": [
        "## 7. Discussion\n",
        "#\n",
        "- **Schema Enforcement:** Weaviate's schema ensures data consistency, vital for reliable filtering.\n",
        "- **Rich Filtering & BM25:** The `where` filter is highly expressive. Combining it with BM25 keyword search and vector search provides powerful hybrid retrieval.\n",
        "- **Performance:** Using Weaviate v1.25+ is recommended for filter performance benefits. Advanced tuning of `invertedIndexConfig` and BM25 parameters can further optimize search.\n",
        "- **GraphQL:** Remember Weaviate also offers a rich GraphQL API for complex queries, which is discussed in our main guide.\n",
        "#\n",
        "*Our comprehensive guide offers more on Weaviate's pros, cons, and ideal use cases.*"
      ]
    },
    {
      "cell_type": "code",
      "execution_count": null,
      "metadata": {},
      "outputs": [],
      "source": [
        "# 8. Cleanup\n",
        "\n",
        "if client.collections.exists(class_name):\n",
        "    print(f\"Deleting collection '{class_name}'...\")\n",
        "    client.collections.delete(class_name)\n",
        "    print(f\"Collection '{class_name}' deleted.\")\n",
        "else:\n",
        "    print(f\"Collection '{class_name}' not found for deletion.\")\n",
        "\n",
        "\n",
        "# Close the client connection\n",
        "client.close()"
      ]
    },
    {
      "cell_type": "markdown",
      "metadata": {},
      "source": [
        "## Conclusion\n",
        "#\n",
        "This Weaviate notebook demonstrated its strong metadata filtering using `where` clauses,\n",
        "and showcased how this can be combined with both vector searches and BM25 keyword searches.\n",
        "Its schema-first approach and rich query capabilities make it suitable for diverse applications.\n",
        "#\n",
        "*Refer to our main guide for selecting the best vector database for your specific needs and for more details on Weaviate's advanced features.*"
      ]
    }
  ],
  "metadata": {
    "colab": {
      "provenance": []
    },
    "kernelspec": {
      "display_name": "Python 3",
      "name": "python3"
    },
    "language_info": {
      "codemirror_mode": {
        "name": "ipython",
        "version": 3
      },
      "file_extension": ".py",
      "mimetype": "text/x-python",
      "name": "python",
      "nbconvert_exporter": "python",
      "pygments_lexer": "ipython3",
      "version": "3.13.1"
    }
  },
  "nbformat": 4,
  "nbformat_minor": 5
}
